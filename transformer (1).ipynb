{
  "cells": [
    {
      "cell_type": "code",
      "execution_count": 1,
      "metadata": {
        "colab": {
          "base_uri": "https://localhost:8080/"
        },
        "id": "JHSdxPJuN4x7",
        "outputId": "787e698a-2dc9-4e82-bc42-b04e7d4f285e",
        "ExecuteTime": {
          "end_time": "2024-05-07T01:53:30.634888900Z",
          "start_time": "2024-05-07T01:53:11.454771700Z"
        }
      },
      "outputs": [
        {
          "output_type": "stream",
          "name": "stdout",
          "text": [
            "sys.version_info(major=3, minor=10, micro=12, releaselevel='final', serial=0)\n",
            "matplotlib 3.7.1\n",
            "numpy 1.25.2\n",
            "pandas 2.0.3\n",
            "sklearn 1.2.2\n",
            "torch 2.2.1+cu121\n",
            "cuda:0\n"
          ]
        }
      ],
      "source": [
        "import matplotlib as mpl\n",
        "import matplotlib.pyplot as plt\n",
        "%matplotlib inline\n",
        "import numpy as np\n",
        "import sklearn\n",
        "import pandas as pd\n",
        "import os\n",
        "import sys\n",
        "import time\n",
        "from tqdm.auto import tqdm\n",
        "import torch\n",
        "import torch.nn as nn\n",
        "import torch.nn.functional as F\n",
        "\n",
        "print(sys.version_info)\n",
        "for module in mpl, np, pd, sklearn, torch:\n",
        "    print(module.__name__, module.__version__)\n",
        "\n",
        "device = torch.device(\"cuda:0\") if torch.cuda.is_available() else torch.device(\"cpu\")\n",
        "print(device)\n",
        "\n",
        "seed = 42\n",
        "torch.manual_seed(seed)\n",
        "torch.cuda.manual_seed_all(seed)\n",
        "np.random.seed(seed)\n"
      ]
    },
    {
      "cell_type": "code",
      "source": [
        "#挂载谷歌云盘\n",
        "\n",
        "from google.colab import drive\n",
        "drive.mount('/content/drive')"
      ],
      "metadata": {
        "colab": {
          "base_uri": "https://localhost:8080/"
        },
        "id": "yQQEArYqWylq",
        "outputId": "a6ce5942-d42f-4ffd-8491-ff8134eddecb"
      },
      "execution_count": 2,
      "outputs": [
        {
          "output_type": "stream",
          "name": "stdout",
          "text": [
            "Mounted at /content/drive\n"
          ]
        }
      ]
    },
    {
      "cell_type": "code",
      "source": [
        "!cp /content/drive/MyDrive/transformer-de-en/* . -r"
      ],
      "metadata": {
        "id": "wzS4AimwWz7f"
      },
      "execution_count": 8,
      "outputs": []
    },
    {
      "cell_type": "markdown",
      "metadata": {
        "id": "55aNBForN4x9"
      },
      "source": [
        "## 数据加载\n",
        "\n",
        "- 采用WMT16的德语和英语平行语料库，数据集主页：[WMT16](https://www.statmt.org/wmt16/multimodal-task.html#task1)"
      ]
    },
    {
      "cell_type": "code",
      "execution_count": 4,
      "metadata": {
        "colab": {
          "base_uri": "https://localhost:8080/"
        },
        "id": "SkjBEbr1N4x-",
        "outputId": "36410b5d-6f25-4f1e-b8c0-fd8536606daa",
        "ExecuteTime": {
          "end_time": "2024-05-07T01:54:24.651630200Z",
          "start_time": "2024-05-07T01:53:30.638887Z"
        }
      },
      "outputs": [
        {
          "output_type": "stream",
          "name": "stdout",
          "text": [
            "Collecting sacremoses\n",
            "  Downloading sacremoses-0.1.1-py3-none-any.whl (897 kB)\n",
            "\u001b[2K     \u001b[90m━━━━━━━━━━━━━━━━━━━━━━━━━━━━━━━━━━━━━━━━\u001b[0m \u001b[32m897.5/897.5 kB\u001b[0m \u001b[31m10.9 MB/s\u001b[0m eta \u001b[36m0:00:00\u001b[0m\n",
            "\u001b[?25hRequirement already satisfied: regex in /usr/local/lib/python3.10/dist-packages (from sacremoses) (2023.12.25)\n",
            "Requirement already satisfied: click in /usr/local/lib/python3.10/dist-packages (from sacremoses) (8.1.7)\n",
            "Requirement already satisfied: joblib in /usr/local/lib/python3.10/dist-packages (from sacremoses) (1.4.0)\n",
            "Requirement already satisfied: tqdm in /usr/local/lib/python3.10/dist-packages (from sacremoses) (4.66.2)\n",
            "Installing collected packages: sacremoses\n",
            "Successfully installed sacremoses-0.1.1\n",
            "Collecting subword-nmt\n",
            "  Downloading subword_nmt-0.3.8-py3-none-any.whl (27 kB)\n",
            "Collecting mock (from subword-nmt)\n",
            "  Downloading mock-5.1.0-py3-none-any.whl (30 kB)\n",
            "Requirement already satisfied: tqdm in /usr/local/lib/python3.10/dist-packages (from subword-nmt) (4.66.2)\n",
            "Installing collected packages: mock, subword-nmt\n",
            "Successfully installed mock-5.1.0 subword-nmt-0.3.8\n",
            "sh: 0: cannot open data_multi30k.sh: No such file\n"
          ]
        }
      ],
      "source": [
        "!pip install sacremoses #和jieba分词类似\n",
        "!pip install subword-nmt\n",
        "# # BPE分词\n"
      ]
    },
    {
      "cell_type": "code",
      "source": [
        "!sh data_multi30k.sh wmt16 de en"
      ],
      "metadata": {
        "colab": {
          "base_uri": "https://localhost:8080/"
        },
        "id": "Tc8aCQX-XrGv",
        "outputId": "7bea71fb-688e-432d-bae8-7e496a7d2a1a"
      },
      "execution_count": 9,
      "outputs": [
        {
          "output_type": "stream",
          "name": "stdout",
          "text": [
            "[train] 源语言文本分词完成\n",
            "[train] 目标语言文本分词完成\n",
            "[val] 源语言文本分词完成\n",
            "[val] 目标语言文本分词完成\n",
            "[test] 源语言文本分词完成\n",
            "[test] 目标语言文本分词完成\n",
            "100% 10000/10000 [00:10<00:00, 997.89it/s]\n",
            "Finished applying bpe to train files.\n",
            "Finished applying bpe to val files.\n",
            "Finished applying bpe to test files.\n"
          ]
        }
      ]
    },
    {
      "cell_type": "markdown",
      "metadata": {
        "id": "Lvk4q0-1N4x-"
      },
      "source": [
        "Dataset"
      ]
    },
    {
      "cell_type": "code",
      "execution_count": 10,
      "metadata": {
        "colab": {
          "base_uri": "https://localhost:8080/"
        },
        "id": "zCXKEwspN4x_",
        "outputId": "1224589c-d05f-464e-ebf8-3cb767dacc80",
        "ExecuteTime": {
          "end_time": "2024-05-07T01:54:24.900786900Z",
          "start_time": "2024-05-07T01:54:24.651630200Z"
        }
      },
      "outputs": [
        {
          "output_type": "stream",
          "name": "stdout",
          "text": [
            "save cache to wmt16/.cache/de2en_train_128.npy\n",
            "save cache to wmt16/.cache/de2en_val_128.npy\n"
          ]
        }
      ],
      "source": [
        "from pathlib import Path\n",
        "from torch.utils.data import Dataset, DataLoader\n",
        "\n",
        "\n",
        "\n",
        "class LangPairDataset(Dataset):\n",
        "\n",
        "    def __init__(\n",
        "        self, mode=\"train\", max_length=128, overwrite_cache=False, data_dir=\"wmt16\",\n",
        "    ):\n",
        "        self.data_dir = Path(data_dir)\n",
        "        cache_path = self.data_dir / \".cache\" / f\"de2en_{mode}_{max_length}.npy\"\n",
        "\n",
        "        if overwrite_cache or not cache_path.exists():\n",
        "            cache_path.parent.mkdir(parents=True, exist_ok=True)\n",
        "\n",
        "            with open(self.data_dir / f\"{mode}_src.bpe\", \"r\", encoding=\"utf8\") as file:\n",
        "                self.src = file.readlines() # 读取源语言文件所有行\n",
        "\n",
        "            with open(self.data_dir / f\"{mode}_trg.bpe\", \"r\", encoding=\"utf8\") as file:\n",
        "                self.trg = file.readlines() # 读取目标语言文件所有行\n",
        "\n",
        "            filtered_src = []\n",
        "            filtered_trg = []\n",
        "            # max length filter,超出最大长度的句子舍弃\n",
        "            for src, trg in zip(self.src, self.trg):\n",
        "                if len(src) <= max_length and len(trg) <= max_length: # 过滤长度超过最大长度的句子\n",
        "                    filtered_src.append(src.strip()) # 去掉句子前后的空格\n",
        "                    filtered_trg.append(trg.strip())\n",
        "            filtered_src = np.array(filtered_src)\n",
        "            filtered_trg = np.array(filtered_trg)\n",
        "            np.save(\n",
        "                cache_path,\n",
        "                {\"src\": filtered_src, \"trg\": filtered_trg },\n",
        "                allow_pickle=True,\n",
        "            )#allow_pickle=True允许保存对象数组，将过滤后的数据保存为 NumPy 数组，存储在缓存文件中\n",
        "            print(f\"save cache to {cache_path}\")\n",
        "\n",
        "        else:\n",
        "            cache_dict = np.load(cache_path, allow_pickle=True).item() #allow_pickle=True允许保存对象数组\n",
        "            print(f\"load {mode} dataset from {cache_path}\")\n",
        "            filtered_src = cache_dict[\"src\"]\n",
        "            filtered_trg = cache_dict[\"trg\"]\n",
        "\n",
        "        self.src = filtered_src\n",
        "        self.trg = filtered_trg\n",
        "\n",
        "    def __getitem__(self, index):\n",
        "        return self.src[index], self.trg[index]\n",
        "\n",
        "    def __len__(self):\n",
        "        return len(self.src)\n",
        "\n",
        "\n",
        "train_ds = LangPairDataset(\"train\")\n",
        "val_ds = LangPairDataset(\"val\")"
      ]
    },
    {
      "cell_type": "code",
      "source": [
        "# !rm wmt16/.cache -r"
      ],
      "metadata": {
        "id": "yHB9TDpDQlv2",
        "ExecuteTime": {
          "end_time": "2024-05-07T01:54:24.962067200Z",
          "start_time": "2024-05-07T01:54:24.902785900Z"
        }
      },
      "execution_count": 11,
      "outputs": []
    },
    {
      "cell_type": "code",
      "execution_count": 12,
      "outputs": [
        {
          "output_type": "execute_result",
          "data": {
            "text/plain": [
              "27659"
            ]
          },
          "metadata": {},
          "execution_count": 12
        }
      ],
      "source": [
        "len(train_ds)"
      ],
      "metadata": {
        "colab": {
          "base_uri": "https://localhost:8080/"
        },
        "id": "meHHXL3MN4x_",
        "outputId": "7bcdda97-118a-46d7-8320-8792ce8dc6c7",
        "ExecuteTime": {
          "end_time": "2024-05-07T01:54:24.963066500Z",
          "start_time": "2024-05-07T01:54:24.923090900Z"
        }
      }
    },
    {
      "cell_type": "code",
      "execution_count": 13,
      "metadata": {
        "colab": {
          "base_uri": "https://localhost:8080/"
        },
        "id": "LZvJV37NN4x_",
        "outputId": "de91695d-f384-4ed2-ca21-f903ca16c7f3",
        "ExecuteTime": {
          "end_time": "2024-05-07T01:54:24.964066500Z",
          "start_time": "2024-05-07T01:54:24.939081700Z"
        }
      },
      "outputs": [
        {
          "output_type": "stream",
          "name": "stdout",
          "text": [
            "source: ein älterer mann sitzt mit einem jungen mit einem wagen vor einer fassade .\n",
            "target: an elderly man sits outside a storefront accompani@@ ed by a young boy with a cart .\n"
          ]
        }
      ],
      "source": [
        "print(\"source: {}\\ntarget: {}\".format(*train_ds[-1]))"
      ]
    },
    {
      "cell_type": "markdown",
      "metadata": {
        "id": "TE8gRzYQN4yA"
      },
      "source": [
        "### Tokenizer\n",
        "\n",
        "这里有两种处理方式，分别对应着 encoder 和 decoder 的 word embedding 是否共享，这里实现共享的方案"
      ]
    },
    {
      "cell_type": "code",
      "execution_count": 14,
      "metadata": {
        "colab": {
          "base_uri": "https://localhost:8080/",
          "height": 66,
          "referenced_widgets": [
            "8393b7bd6fdb43b280ab2a6dbb9bfe15",
            "a92f862870434b57a0e92dad1e971fc6",
            "62405a2d637a4693b29404db420c4de9",
            "24adcee272bc4cf4a2f4e23d509bb26b",
            "e040666cd214488db6d806b15c4c3f23",
            "df5aa6262cd54e12af87650209090887",
            "42a86c9c02294043a38ce42f11b8af8c",
            "2dfadc6716d74e3f9ddb6ab1d9c2c33f",
            "bebcf53d620f4821b4c0637831526919",
            "72f0940cb4c6443db8f3ae233fedfdcf",
            "81dd4d322b3949dba3e5be0eba02dad0"
          ]
        },
        "id": "yAmlq_9YN4yA",
        "outputId": "cd427158-3ed2-4b56-ee47-ee3d880c46e3",
        "ExecuteTime": {
          "end_time": "2024-05-07T01:54:25.104077900Z",
          "start_time": "2024-05-07T01:54:24.955073500Z"
        }
      },
      "outputs": [
        {
          "output_type": "display_data",
          "data": {
            "text/plain": [
              "  0%|          | 0/9714 [00:00<?, ?it/s]"
            ],
            "application/vnd.jupyter.widget-view+json": {
              "version_major": 2,
              "version_minor": 0,
              "model_id": "8393b7bd6fdb43b280ab2a6dbb9bfe15"
            }
          },
          "metadata": {}
        },
        {
          "output_type": "stream",
          "name": "stdout",
          "text": [
            "vocab_size: 9718\n"
          ]
        }
      ],
      "source": [
        "#载入词表，看下词表长度，词表就像英语字典,构建word2idx和idx2word\n",
        "word2idx = {\n",
        "    \"[PAD]\": 0,     # 填充 token\n",
        "    \"[BOS]\": 1,     # begin of sentence\n",
        "    \"[UNK]\": 2,     # 未知 token\n",
        "    \"[EOS]\": 3,     # end of sentence\n",
        "}\n",
        "idx2word = {value: key for key, value in word2idx.items()}\n",
        "index = len(idx2word)\n",
        "threshold = 1  # 出现次数低于此的token舍弃\n",
        "\n",
        "with open(\"wmt16/vocab\", \"r\", encoding=\"utf8\") as file:\n",
        "    for line in tqdm(file.readlines()):\n",
        "        token, counts = line.strip().split()\n",
        "        if int(counts) >= threshold:\n",
        "            word2idx[token] = index\n",
        "            idx2word[index] = token\n",
        "            index += 1\n",
        "\n",
        "vocab_size = len(word2idx)\n",
        "print(\"vocab_size: {}\".format(vocab_size))"
      ]
    },
    {
      "cell_type": "code",
      "execution_count": 15,
      "metadata": {
        "colab": {
          "base_uri": "https://localhost:8080/"
        },
        "id": "e_ed0jmJN4yA",
        "outputId": "8251eb11-9366-4857-9672-a47e478d4f1f",
        "ExecuteTime": {
          "end_time": "2024-05-07T01:54:25.106077600Z",
          "start_time": "2024-05-07T01:54:25.051793800Z"
        }
      },
      "outputs": [
        {
          "output_type": "stream",
          "name": "stdout",
          "text": [
            "raw text\n",
            "['hello', 'world']\n",
            "['tokenize', 'text', 'datas', 'with', 'batch']\n",
            "['this', 'is', 'a', 'test']\n",
            "indices\n",
            "tensor([   2, 4517,    3,    0,    0,    0])\n",
            "tensor([   2, 7167,    2,   22,    2,    3])\n",
            "tensor([ 425,   18,    5, 4493,    3,    0])\n",
            "decode text\n",
            "[UNK] world [EOS] [PAD] [PAD] [PAD]\n",
            "[UNK] text [UNK] with [UNK] [EOS]\n",
            "this is a test [EOS] [PAD]\n"
          ]
        }
      ],
      "source": [
        "class Tokenizer:\n",
        "    def __init__(self, word2idx, idx2word, max_length=128, pad_idx=0, bos_idx=1, eos_idx=3, unk_idx=2):\n",
        "        self.word2idx = word2idx\n",
        "        self.idx2word = idx2word\n",
        "        self.max_length = max_length\n",
        "        self.pad_idx = pad_idx\n",
        "        self.bos_idx = bos_idx\n",
        "        self.eos_idx = eos_idx\n",
        "        self.unk_idx = unk_idx\n",
        "\n",
        "    def encode(self, text_list, padding_first=False, add_bos=True, add_eos=True, return_mask=False):\n",
        "        \"\"\"如果padding_first == True，则padding加载前面，否则加载后面\"\"\"\n",
        "        max_length = min(self.max_length, add_eos + add_bos + max([len(text) for text in text_list]))\n",
        "        indices_list = []\n",
        "        for text in text_list:\n",
        "            indices = [self.word2idx.get(word, self.unk_idx) for word in text[:max_length - add_bos - add_eos]]\n",
        "            if add_bos:\n",
        "                indices = [self.bos_idx] + indices\n",
        "            if add_eos:\n",
        "                indices = indices + [self.eos_idx]\n",
        "            if padding_first:\n",
        "                indices = [self.pad_idx] * (max_length - len(indices)) + indices\n",
        "            else:\n",
        "                indices = indices + [self.pad_idx] * (max_length - len(indices))\n",
        "            indices_list.append(indices)\n",
        "        input_ids = torch.tensor(indices_list)\n",
        "        masks = (input_ids == self.pad_idx).to(dtype=torch.int64) # 为了方便损失计算，这里的mask为0的地方需要计算，为1的地方不需要计算\n",
        "        return input_ids if not return_mask else (input_ids, masks)\n",
        "\n",
        "\n",
        "    def decode(self, indices_list, remove_bos=True, remove_eos=True, remove_pad=True, split=False):\n",
        "        text_list = []\n",
        "        for indices in indices_list:\n",
        "            text = []\n",
        "            for index in indices:\n",
        "                word = self.idx2word.get(index, \"[UNK]\")\n",
        "                if remove_bos and word == \"[BOS]\":\n",
        "                    continue\n",
        "                if remove_eos and word == \"[EOS]\":\n",
        "                    break\n",
        "                if remove_pad and word == \"[PAD]\":\n",
        "                    break\n",
        "                text.append(word)\n",
        "            text_list.append(\" \".join(text) if not split else text)\n",
        "        return text_list\n",
        "\n",
        "\n",
        "tokenizer = Tokenizer(word2idx=word2idx, idx2word=idx2word)\n",
        "\n",
        "tokenizer.encode([[\"hello\"], [\"hello\", \"world\"]], add_bos=True, add_eos=False)\n",
        "raw_text = [\"hello world\".split(), \"tokenize text datas with batch\".split(), \"this is a test\".split()]\n",
        "indices = tokenizer.encode(raw_text, padding_first=False, add_bos=False, add_eos=True)\n",
        "decode_text = tokenizer.decode(indices.tolist(), remove_bos=False, remove_eos=False, remove_pad=False)\n",
        "print(\"raw text\")\n",
        "for raw in raw_text:\n",
        "    print(raw)\n",
        "print(\"indices\")\n",
        "for index in indices:\n",
        "    print(index)\n",
        "print(\"decode text\")\n",
        "for decode in decode_text:\n",
        "    print(decode)"
      ]
    },
    {
      "cell_type": "markdown",
      "metadata": {
        "id": "ftcEnnKxN4yB"
      },
      "source": [
        "### Transformer Batch Sampler\n",
        "\n",
        "> Sentence pairs were batched together by approximate sequence length. Each training batch contained a set of sentence pairs containing approximately 25000 source tokens and 25000 target tokens\n",
        "句子对按大致序列长度分批在一起。 每个训练批次包含一组句子对，其中包含大约 25000 个源标记和 25000 个目标标记"
      ]
    },
    {
      "cell_type": "code",
      "execution_count": 16,
      "metadata": {
        "id": "qP8nznIuN4yB",
        "ExecuteTime": {
          "end_time": "2024-05-07T01:54:25.192028900Z",
          "start_time": "2024-05-07T01:54:25.087086700Z"
        }
      },
      "outputs": [],
      "source": [
        "class SampleInfo: #下面的info对象\n",
        "    def __init__(self, i, lens):\n",
        "        \"\"\"\n",
        "        记录文本对的序号和长度信息\n",
        "        输入：\n",
        "            - i (int): 文本对的序号。\n",
        "            - lens (list): 文本对源语言和目标语言的长度\n",
        "        \"\"\"\n",
        "        self.i = i\n",
        "        # 加一是考虑填补在文本前后的特殊词元\n",
        "        self.max_len = max(lens[0], lens[1]) + 1\n",
        "        self.src_len = lens[0] + 1\n",
        "        self.trg_len = lens[1] + 1\n",
        "\n",
        "# 一个批量生成器，根据词元数目的限制来控制批量的大小。它会根据传入的样本信息，在不超过设定大小的情况下，逐步构建批量。\n",
        "class TokenBatchCreator:\n",
        "    def __init__(self, batch_size):\n",
        "        \"\"\"\n",
        "        参数:\n",
        "        batch_size (int): 用于限制批量的大小。\n",
        "        功能:\n",
        "        初始化了一个空的批量列表 _batch。\n",
        "        设定了初始的最大长度为 -1。\n",
        "        存储了传入的 batch_size。\n",
        "        \"\"\"\n",
        "\n",
        "        self._batch = []\n",
        "        self.max_len = -1\n",
        "        self._batch_size = batch_size # 限制批量的大小,假设是4096\n",
        "\n",
        "    def append(self, info):\n",
        "        \"\"\"\n",
        "        参数:\n",
        "        info (SampleInfo): 文本对的信息。\n",
        "        功能:\n",
        "        接收一个 SampleInfo 对象，并根据其最大长度信息更新当前批量的最大长度。\n",
        "        如果将新的样本加入批量后超过了批量大小限制，它会返回已有的批量并将新的样本加入新的批量。\n",
        "        否则，它会更新最大长度并将样本添加到当前批量中。\n",
        "        \"\"\"\n",
        "        # 更新当前批量的最大长度\n",
        "        cur_len = info.max_len # 当前样本的长度\n",
        "        max_len = max(self.max_len, cur_len) # 每来一个样本，更新当前批次的最大长度\n",
        "        # 如果新的样本加入批量后超过大小限制，则将已有的批量返回，新的样本加入新的批量\n",
        "        if max_len * (len(self._batch) + 1) > self._batch_size:\n",
        "            self._batch, result = [], self._batch # 保存当前的batch，并返回,这里的result是之前的batch,_batch清空\n",
        "            self._batch.append(info)\n",
        "            self.max_len = cur_len #因为是当前batch的第一个样本，所以它的长度就是当前长度\n",
        "            return result\n",
        "        else:\n",
        "            self.max_len = max_len\n",
        "            self._batch.append(info) # 将样本添加到当前批量中\n",
        "\n",
        "    @property\n",
        "    def batch(self):\n",
        "        return self._batch"
      ]
    },
    {
      "cell_type": "code",
      "execution_count": 17,
      "metadata": {
        "id": "_Vtc0gXEN4yB",
        "ExecuteTime": {
          "end_time": "2024-05-07T01:54:25.193028600Z",
          "start_time": "2024-05-07T01:54:25.109076200Z"
        }
      },
      "outputs": [],
      "source": [
        "from torch.utils.data import BatchSampler\n",
        "import numpy as np\n",
        "\n",
        "\n",
        "class TransformerBatchSampler(BatchSampler):\n",
        "    def __init__(self,\n",
        "                 dataset,\n",
        "                 batch_size,\n",
        "                 shuffle_batch=False,\n",
        "                 clip_last_batch=False,\n",
        "                 seed=0):\n",
        "        \"\"\"\n",
        "        批量采样器\n",
        "        输入:\n",
        "            - dataset: 数据集\n",
        "            - batch_size: 批量大小\n",
        "            - shuffle_batch: 是否对生成的批量进行洗牌\n",
        "            - clip_last_batch: 是否裁剪最后剩下的数据\n",
        "            - seed: 随机数种子\n",
        "        \"\"\"\n",
        "        self._dataset = dataset\n",
        "        self._batch_size = batch_size\n",
        "        self._shuffle_batch = shuffle_batch\n",
        "        self._clip_last_batch = clip_last_batch\n",
        "        self._seed = seed\n",
        "        self._random = np.random\n",
        "        self._random.seed(seed)\n",
        "\n",
        "        self._sample_infos = []\n",
        "        # 根据数据集中的每个样本，创建了对应的 SampleInfo 对象，包含了样本的索引和长度信息。\n",
        "        for i, data in enumerate(self._dataset):\n",
        "            lens = [len(data[0]), len(data[1])] #输入和输出的长度计算放到lens中\n",
        "            self._sample_infos.append(SampleInfo(i, lens))\n",
        "\n",
        "    def __iter__(self):\n",
        "        \"\"\"\n",
        "        对数据集中的样本进行排序，排序规则是先按源语言长度排序，如果相同则按目标语言长度排序。\n",
        "        使用 TokenBatchCreator 逐步组装批量数据，当满足批量大小时返回一个批量的样本信息。\n",
        "        如果不裁剪最后一个批次的数据且存在剩余样本，则将这些样本组成最后一个批次。\n",
        "        如果需要对批量进行洗牌，则对批次进行洗牌操作。\n",
        "        通过迭代器，抛出每个批量的样本在数据集中的索引。\n",
        "        \"\"\"\n",
        "        # 排序，如果源语言长度相同则按照目标语言的长度排列\n",
        "        infos = sorted(self._sample_infos,\n",
        "                       key=lambda x: (x.src_len, x.trg_len))\n",
        "        # 组装批量\n",
        "        batch_infos = []\n",
        "        batch_creator = TokenBatchCreator(self._batch_size) # 批量生成器\n",
        "        for info in infos:\n",
        "            batch = batch_creator.append(info)\n",
        "            # 存够一个batch的样本信息后，会把这个batch返回，否则返回为None\n",
        "            if batch is not None:\n",
        "                batch_infos.append(batch)\n",
        "\n",
        "        # 是否抛弃最后批量的文本对\n",
        "        if not self._clip_last_batch and len(batch_creator.batch) != 0:\n",
        "            batch_infos.append(batch_creator.batch) # 最后一个batch\n",
        "\n",
        "        # 打乱batch\n",
        "        if self._shuffle_batch:\n",
        "            self._random.shuffle(batch_infos)\n",
        "\n",
        "        self.batch_number = len(batch_infos)\n",
        "\n",
        "        # 抛出一个批量的文本对在数据集中的序号\n",
        "        for batch in batch_infos:\n",
        "            batch_indices = [info.i for info in batch] # 批量的样本在数据集中的索引，第一个batch[0,1,.....82]，第二个batch[83,84,85,86,87]\n",
        "            yield batch_indices\n",
        "\n",
        "    def __len__(self):\n",
        "        \"\"\"\n",
        "        返回批量的数量\n",
        "        \"\"\"\n",
        "        if hasattr(self, \"batch_number\"):\n",
        "            return self.batch_number\n",
        "        # 计算批量的数量\n",
        "        batch_number = (len(self._dataset) +\n",
        "                        self._batch_size) // self._batch_size\n",
        "        return batch_number"
      ]
    },
    {
      "cell_type": "code",
      "execution_count": 18,
      "metadata": {
        "colab": {
          "base_uri": "https://localhost:8080/"
        },
        "id": "d00AFRzVN4yC",
        "outputId": "19daf507-416d-4b89-fe95-d9685da49cf0",
        "ExecuteTime": {
          "end_time": "2024-05-07T01:54:25.306961100Z",
          "start_time": "2024-05-07T01:54:25.138059400Z"
        }
      },
      "outputs": [
        {
          "output_type": "stream",
          "name": "stdout",
          "text": [
            "第0批量的数据中含有文本对是：[20303, 272, 3549, 11130, 12595, 12784, 13559, 22464, 1474, 6750, 7174, 8451, 10507, 15759, 16727, 19970, 25362, 27342, 27467, 2093, 2953, 3053, 4811, 6859, 10441, 10853, 11970, 15839, 16938, 18233, 20382, 21262, 24568, 14, 1067, 4934, 10278, 11027, 11753, 12988, 15029, 15900, 16219, 16799, 19208, 20018, 21926, 2490, 2565, 2854, 3903, 6469, 8006, 9892, 10241, 10400, 11697, 13678, 17015, 19819, 20660, 23208, 25640, 4620, 5719, 7807, 9474, 11360, 11423, 11857, 12519, 14495, 16832, 17204, 17214, 22914, 23865, 25037, 26610, 27438, 365, 1063, 3404]，数量为：83\n",
            "第1批量的数据中含有文本对是：[1896, 2650, 5347, 6855, 13019, 14422, 15533, 17704, 20935, 21794, 27107, 2422, 5213, 6555, 6638, 7682, 7902, 14492, 19817, 20186, 20941, 21052, 21164, 21222, 23422, 23573, 23834, 24516, 24599, 528, 933, 5364, 7649, 8029, 12179, 16073, 17508, 17732, 20361, 21449, 25890, 26193, 26438, 1469, 5758, 9238, 10232, 16510, 17373]，数量为：49\n",
            "第2批量的数据中含有文本对是：[6311, 19570, 21049, 21560, 24196, 24600, 12012, 12977, 23611, 24911, 26514, 2573, 6205, 8269, 22566, 23845, 24888, 16511, 13479, 14827, 24583, 11595, 13740, 16399, 23925, 3068, 4682, 6643, 21833, 51, 2894, 4777, 6227, 10547, 20315]，数量为：35\n",
            "第3批量的数据中含有文本对是：[12483, 18790, 19995, 22195, 27532, 8260, 11850, 15860, 21670, 8611, 15832, 19348, 21688, 3206, 20749, 27041, 27254, 9762, 12951, 19090, 19566, 5503, 6830, 9750, 12289, 18415, 19626, 20953, 23116, 252, 1881, 3617, 13355, 13982, 16612, 26396]，数量为：36\n"
          ]
        }
      ],
      "source": [
        "sampler = TransformerBatchSampler(train_ds, batch_size=4096, shuffle_batch=True)\n",
        "for idx, batch in enumerate(sampler):\n",
        "    print(\"第{}批量的数据中含有文本对是：{}，数量为：{}\".format(idx, batch, len(batch)))\n",
        "    if idx >= 3:\n",
        "        break\n",
        "#为什么这里每个批量的样本对数目不一样呢？长度*batch_number>4096的时候，就会返回上一个batch，然后新的样本加入新的batch,具体要看TokenBatchCreator的44行"
      ]
    },
    {
      "cell_type": "markdown",
      "metadata": {
        "id": "Olkaw4JNN4yC"
      },
      "source": [
        "### DataLoader"
      ]
    },
    {
      "cell_type": "code",
      "execution_count": 19,
      "metadata": {
        "id": "rvvuNJIzN4yC",
        "ExecuteTime": {
          "end_time": "2024-05-07T01:54:25.348938200Z",
          "start_time": "2024-05-07T01:54:25.315956100Z"
        }
      },
      "outputs": [],
      "source": [
        "def collate_fct(batch, tokenizer):\n",
        "    src_words = [pair[0].split() for pair in batch]\n",
        "    trg_words = [pair[1].split() for pair in batch]\n",
        "\n",
        "    # [BOS] src [EOS] [PAD]\n",
        "    encoder_inputs, encoder_inputs_mask = tokenizer.encode(\n",
        "        src_words, padding_first=False, add_bos=True, add_eos=True, return_mask=True\n",
        "        )\n",
        "\n",
        "    # [BOS] trg [PAD]\n",
        "    decoder_inputs = tokenizer.encode(\n",
        "        trg_words, padding_first=False, add_bos=True, add_eos=False, return_mask=False,\n",
        "        )\n",
        "\n",
        "    # trg [EOS] [PAD]\n",
        "    decoder_labels, decoder_labels_mask = tokenizer.encode(\n",
        "        trg_words, padding_first=False, add_bos=False, add_eos=True, return_mask=True\n",
        "        )\n",
        "\n",
        "    return {\n",
        "        \"encoder_inputs\": encoder_inputs.to(device=device),\n",
        "        \"encoder_inputs_mask\": encoder_inputs_mask.to(device=device),\n",
        "        \"decoder_inputs\": decoder_inputs.to(device=device),\n",
        "        \"decoder_labels\": decoder_labels.to(device=device),\n",
        "        \"decoder_labels_mask\": decoder_labels_mask.to(device=device),\n",
        "    }\n"
      ]
    },
    {
      "cell_type": "code",
      "execution_count": 20,
      "metadata": {
        "colab": {
          "base_uri": "https://localhost:8080/"
        },
        "id": "5p79gPo5N4yC",
        "outputId": "828aeb38-5265-48c6-98a6-5922fcb62617",
        "ExecuteTime": {
          "end_time": "2024-05-07T01:54:25.624781300Z",
          "start_time": "2024-05-07T01:54:25.326952100Z"
        }
      },
      "outputs": [
        {
          "output_type": "stream",
          "name": "stdout",
          "text": [
            "encoder_inputs\n",
            "tensor([[   1,    7,   17,    6,    8,   89,  157,   73,    7,  541,  255,    9,\n",
            "           14,   42,  153,  119, 1481,  406, 2384, 1319,    4,    3],\n",
            "        [   1,  521,    6,    8,  808, 1299, 2305, 1638, 2535,  184,   31, 1735,\n",
            "          961,   55, 1732,    4,    3,    0,    0,    0,    0,    0]],\n",
            "       device='cuda:0')\n",
            "encoder_inputs_mask\n",
            "tensor([[0, 0, 0, 0, 0, 0, 0, 0, 0, 0, 0, 0, 0, 0, 0, 0, 0, 0, 0, 0, 0, 0],\n",
            "        [0, 0, 0, 0, 0, 0, 0, 0, 0, 0, 0, 0, 0, 0, 0, 0, 0, 1, 1, 1, 1, 1]],\n",
            "       device='cuda:0')\n",
            "decoder_inputs\n",
            "tensor([[   1,    5,   16,    6,    5,   50,   41,   18,   78,    5,  421,  254,\n",
            "         7050,  106,  471,    4],\n",
            "        [   1,  452,    6,    5, 5010, 1118, 1010,  106,    5,  517, 5103,    4,\n",
            "            0,    0,    0,    0]], device='cuda:0')\n",
            "decoder_labels\n",
            "tensor([[   5,   16,    6,    5,   50,   41,   18,   78,    5,  421,  254, 7050,\n",
            "          106,  471,    4,    3],\n",
            "        [ 452,    6,    5, 5010, 1118, 1010,  106,    5,  517, 5103,    4,    3,\n",
            "            0,    0,    0,    0]], device='cuda:0')\n",
            "decoder_labels_mask\n",
            "tensor([[0, 0, 0, 0, 0, 0, 0, 0, 0, 0, 0, 0, 0, 0, 0, 0],\n",
            "        [0, 0, 0, 0, 0, 0, 0, 0, 0, 0, 0, 0, 1, 1, 1, 1]], device='cuda:0')\n"
          ]
        }
      ],
      "source": [
        "from functools import partial # 固定collate_fct的tokenizer参数\n",
        "\n",
        "\n",
        "sampler = TransformerBatchSampler(train_ds, batch_size=256, shuffle_batch=True)\n",
        "# https://pytorch.org/docs/stable/data.html#torch.utils.data.DataLoader\n",
        "sample_dl = DataLoader(train_ds, batch_sampler=sampler, collate_fn=partial(collate_fct, tokenizer=tokenizer)) #partial函数，固定collate_fct的tokenizer参数\n",
        "\n",
        "for batch in sample_dl:\n",
        "    for key, value in batch.items():\n",
        "        print(key)\n",
        "        print(value)\n",
        "    break"
      ]
    },
    {
      "cell_type": "markdown",
      "metadata": {
        "id": "0AadtoM3N4yC"
      },
      "source": [
        "## 定义模型\n",
        "\n",
        "- Transformer模型由Embedding、Transformer-Block组成\n",
        "- Embedding包括：\n",
        "    - WordEmbedding\n",
        "    - PositionEmbedding\n",
        "- Transformer-Block包括：\n",
        "    - Self-Attention\n",
        "    - Cross-Attention\n",
        "    - MLP"
      ]
    },
    {
      "cell_type": "markdown",
      "metadata": {
        "id": "VTl-sSJmN4yD"
      },
      "source": [
        "### Embedding"
      ]
    },
    {
      "cell_type": "code",
      "execution_count": 21,
      "metadata": {
        "colab": {
          "base_uri": "https://localhost:8080/",
          "height": 455
        },
        "id": "y66CxrsBN4yD",
        "outputId": "3f16b1a8-89bd-42c9-9958-6c80cb945daa",
        "ExecuteTime": {
          "end_time": "2024-05-07T01:58:30.015534900Z",
          "start_time": "2024-05-07T01:58:29.683070300Z"
        }
      },
      "outputs": [
        {
          "output_type": "display_data",
          "data": {
            "text/plain": [
              "<Figure size 640x480 with 2 Axes>"
            ],
            "image/png": "[encoded data removed]"
          },
          "metadata": {}
        }
      ],
      "source": [
        "\n",
        "class TransformerEmbedding(nn.Module):\n",
        "    def __init__(self, config):\n",
        "        super().__init__()\n",
        "        # hyper params\n",
        "        self.vocab_size = config[\"vocab_size\"]\n",
        "        self.hidden_size = config[\"d_model\"]\n",
        "        self.pad_idx = config[\"pad_idx\"]\n",
        "        dropout_rate = config[\"dropout\"]\n",
        "        self.max_length = config[\"max_length\"]\n",
        "\n",
        "        # layers\n",
        "        self.word_embedding = nn.Embedding(\n",
        "            self.vocab_size, self.hidden_size, padding_idx=self.pad_idx\n",
        "        )\n",
        "        self.pos_embedding = nn.Embedding(\n",
        "            self.max_length,\n",
        "            self.hidden_size,\n",
        "            _weight=self.get_positional_encoding(\n",
        "                self.max_length, self.hidden_size\n",
        "            ),# 位置编码，权重通过get_positional_encoding函数计算得到\n",
        "        )\n",
        "        self.pos_embedding.weight.requires_grad_(False) # 不更新位置编码的权重\n",
        "        self.dropout = nn.Dropout(dropout_rate) # 随机失活层\n",
        "\n",
        "    def get_word_embedding_weights(self):\n",
        "        return self.word_embedding.weight\n",
        "\n",
        "    # 计算位置信息\n",
        "    @classmethod\n",
        "    def get_positional_encoding(self, max_length, hidden_size):#max_length是最大长度，hidden_size是embedding维度相等\n",
        "        # Compute the positional encodings once in log space.\n",
        "        pe = torch.zeros(max_length, hidden_size) # 初始化位置编码\n",
        "        # .unsqueeze(1) 是将这个一维张量转换为二维张量，即将其形状从 (max_length,) 变为 (max_length, 1)。这个操作在张量的维度上增加了一个维度，使其从一维变为二维，第二维的大小为 1。\n",
        "        position = torch.arange(0, max_length).unsqueeze(1) # 位置信息,从0到max_length-1\n",
        "        div_term = torch.exp(\n",
        "            torch.arange(0, hidden_size, 2)\n",
        "            * -(torch.log(torch.Tensor([10000.0])) / hidden_size)\n",
        "        )# 计算位置编码的权重,为了性能考量（是数学上的对数函数分解）\n",
        "        pe[:, 0::2] = torch.sin(position * div_term)\n",
        "        pe[:, 1::2] = torch.cos(position * div_term)\n",
        "        return pe\n",
        "\n",
        "    def forward(self, input_ids):\n",
        "        # input_ids: [batch_size, seq_len]\n",
        "        seq_len = input_ids.shape[1]\n",
        "        assert (\n",
        "            seq_len <= self.max_length\n",
        "        ), f\"input sequence length should no more than {self.max_length} but got {seq_len}\"\n",
        "\n",
        "        position_ids = torch.arange(seq_len, dtype=torch.long, device=input_ids.device)\n",
        "        position_ids = position_ids.unsqueeze(0).expand_as(input_ids)\n",
        "\n",
        "        # embedding\n",
        "        word_embeds = self.word_embedding(input_ids) # 词嵌入\n",
        "        pos_embeds = self.pos_embedding(position_ids) # 位置编码\n",
        "        embeds = word_embeds + pos_embeds\n",
        "        embeds = self.dropout(embeds)\n",
        "\n",
        "        return embeds\n",
        "\n",
        "\n",
        "def plot_position_embedding(position_embedding):# 绘制位置编码\n",
        "    plt.pcolormesh(position_embedding) # 绘制位置编码矩阵\n",
        "    plt.xlabel('Depth')\n",
        "    plt.ylabel('Position')\n",
        "    plt.colorbar() # 颜色条，-1到1的颜色范围\n",
        "    plt.show()\n",
        "\n",
        "position_embedding = TransformerEmbedding.get_positional_encoding(64, 64)\n",
        "plot_position_embedding(position_embedding)\n"
      ]
    },
    {
      "cell_type": "markdown",
      "metadata": {
        "id": "wXavO0SNN4yD"
      },
      "source": [
        "### Transformer Block"
      ]
    },
    {
      "cell_type": "markdown",
      "metadata": {
        "id": "HZL4mu3pN4yD"
      },
      "source": [
        "#### scaled-dot-product-attention"
      ]
    },
    {
      "cell_type": "code",
      "execution_count": 22,
      "metadata": {
        "colab": {
          "base_uri": "https://localhost:8080/",
          "height": 970
        },
        "id": "U9QwdVQYN4yD",
        "outputId": "f216b712-33d3-47fa-dedc-8eee93af9002",
        "ExecuteTime": {
          "end_time": "2024-05-07T07:03:50.744017100Z",
          "start_time": "2024-05-07T07:03:47.629539900Z"
        }
      },
      "outputs": [
        {
          "output_type": "stream",
          "name": "stdout",
          "text": [
            "key_value.shape torch.Size([2, 4, 2])\n",
            "torch.Size([2, 3, 2])\n",
            "torch.Size([2, 2, 3, 4])\n"
          ]
        },
        {
          "output_type": "display_data",
          "data": {
            "text/plain": [
              "<Figure size 640x480 with 4 Axes>"
            ],
            "image/png": "[encoded data removed]"
          },
          "metadata": {}
        },
        {
          "output_type": "stream",
          "name": "stdout",
          "text": [
            "--------------------------------------------------\n"
          ]
        },
        {
          "output_type": "display_data",
          "data": {
            "text/plain": [
              "<Figure size 640x480 with 4 Axes>"
            ],
            "image/png": "[encoded data removed]"
          },
          "metadata": {}
        }
      ],
      "source": [
        "from dataclasses import dataclass\n",
        "from typing import Optional, Tuple\n",
        "\n",
        "Tensor = torch.Tensor\n",
        "\n",
        "@dataclass\n",
        "class AttentionOutput:\n",
        "    hidden_states: Tensor\n",
        "    attn_scores: Tensor\n",
        "\n",
        "class MultiHeadAttention(nn.Module):\n",
        "    def __init__(self, config):\n",
        "        super().__init__()\n",
        "        # hyper params\n",
        "        self.hidden_size = config[\"d_model\"] # 隐藏层大小\n",
        "        self.num_heads = config[\"num_heads\"] # 多头注意力的头数\n",
        "        assert (\n",
        "            self.hidden_size % self.num_heads == 0\n",
        "        ), \"Hidden size must be divisible by num_heads but got {} and {}\".format(\n",
        "            self.hidden_size, self.num_heads\n",
        "        )\n",
        "        self.head_dim = self.hidden_size // self.num_heads # 每个头的维度\n",
        "\n",
        "        # layers\n",
        "        self.Wq = nn.Linear(self.hidden_size, self.hidden_size, bias=False) #第二个self.hidden_size可以*系数\n",
        "        self.Wk = nn.Linear(self.hidden_size, self.hidden_size, bias=False)\n",
        "        self.Wv = nn.Linear(self.hidden_size, self.hidden_size, bias=False)\n",
        "        self.Wo = nn.Linear(self.hidden_size, self.hidden_size, bias=False) # 输出层\n",
        "\n",
        "    def _split_heads(self, x: Tensor) -> Tensor:\n",
        "        bs, seq_len, _ = x.shape #假设输入的维度是[batch_size, seq_len, hidden_size],hidden_size是512\n",
        "        x = x.view(bs, seq_len, self.num_heads, self.head_dim) #num_heads是8，head_dim是64\n",
        "        return x.permute(0, 2, 1, 3) #变换维度，[batch_size, num_heads, seq_len, head_dim]\n",
        "\n",
        "    def _merge_heads(self, x: Tensor) -> Tensor:#将多头注意力的输出合并为一个张量\n",
        "        bs, _, seq_len, _ = x.shape #假设输入的维度是[batch_size, num_heads, seq_len, head_dim]\n",
        "        return x.permute(0, 2, 1, 3).reshape(bs, seq_len, self.hidden_size) # 变换维度，变为[batch_size, seq_len, hidden_size]\n",
        "\n",
        "    def forward(self, querys, keys, values, attn_mask=None) -> AttentionOutput:\n",
        "        # split heads\n",
        "        querys = self._split_heads(self.Wq(querys))\n",
        "        keys = self._split_heads(self.Wk(keys))\n",
        "        values = self._split_heads(self.Wv(values))\n",
        "\n",
        "        # calculate attention scores\n",
        "        qk_logits = torch.matmul(querys, keys.mT) # 计算注意力分数，matmul是矩阵乘法，mT是矩阵转置,qk_logits是[batch_size, num_heads, seq_len, seq_len]\n",
        "        # print(querys.shape[-2], keys.shape[-2])  #3 4\n",
        "        if attn_mask is not None:\n",
        "            attn_mask = attn_mask[:, :, : querys.shape[-2], : keys.shape[-2]]\n",
        "            qk_logits += attn_mask * -1e9 # 给需要mask的地方设置一个负无穷\n",
        "        attn_scores = F.softmax(qk_logits / (self.head_dim**0.5), dim=-1) # 计算注意力分数\n",
        "\n",
        "        # apply attention scores\n",
        "        embeds = torch.matmul(attn_scores, values) # softmax后的结果与value相乘，得到新的表示\n",
        "        embeds = self.Wo(self._merge_heads(embeds)) # 输出层\n",
        "\n",
        "        return AttentionOutput(hidden_states=embeds, attn_scores=attn_scores)\n",
        "\n",
        "mha = MultiHeadAttention({\"num_heads\": 2, \"d_model\": 2})\n",
        "query = torch.randn(2, 3, 2) # [batch_size, seq_len, hidden_size]\n",
        "query /= query.norm(dim=-1, keepdim=True) # 归一化\n",
        "key_value = torch.randn(2, 4, 2)\n",
        "print(f'key_value.shape {key_value.shape}')\n",
        "outputs = mha(query, key_value, key_value) #最终输出shape和query的shape一样\n",
        "print(outputs.hidden_states.shape)\n",
        "print(outputs.attn_scores.shape)\n",
        "# plt.subplots() 用于创建子图网格，其维度基于 outputs.attn_scores.shape[:2]。子图的行数和列数似乎由 outputs.attn_scores 的前两个维度确定。\n",
        "fig, axis = plt.subplots(*outputs.attn_scores.shape[:2])\n",
        "for i in range(query.shape[0]):\n",
        "    for j in range(outputs.attn_scores.shape[1]):\n",
        "        # axis[i, j].matshow(outputs.attn_scores[i, j].detach().numpy())：此行使用 Matplotlib 的 matshow 绘制每个 i 和 j 的注意力分数热图。detach().numpy() 将 PyTorch 张量转换为 NumPy 数组以进行可视化。\n",
        "        axis[i, j].matshow(outputs.attn_scores[i, j].detach().numpy())\n",
        "        for x in range(outputs.attn_scores.shape[2]):\n",
        "            for y in range(outputs.attn_scores.shape[3]):\n",
        "                # axis[i, j].text(y, x, f\"{outputs.attn_scores[i, j, x, y]:.2f}\", ha=\"center\", va=\"center\", color=\"w\")：此代码在热图上叠加文本，显示 (x, y) 位置处的注意力分数。格式化部分 f\"{outputs.attn_scores[i, j, x, y]:.2f}\" 确保以两位小数显示注意力分数。文本以白色居中显示在 (y, x) 坐标处。\n",
        "                axis[i, j].text(y, x, f\"{outputs.attn_scores[i, j, x, y]:.2f}\", ha=\"center\", va=\"center\", color=\"w\")\n",
        "fig.suptitle(\"multi head attention without mask\")\n",
        "plt.show()\n",
        "print('-'*50)\n",
        "# mask\n",
        "mask = torch.Tensor([[0, 0, 1, 1], [0, 0, 0, 1], [0, 0, 0, 0]]).reshape(1, 1, 3, 4) #手工构造mask\n",
        "outputs_masked = mha(query, key_value, key_value, mask)\n",
        "\n",
        "fig, axis = plt.subplots(*outputs_masked.attn_scores.shape[:2])\n",
        "for i in range(query.shape[0]):\n",
        "    for j in range(outputs_masked.attn_scores.shape[1]):\n",
        "        axis[i, j].matshow(outputs_masked.attn_scores[i, j].detach().numpy())\n",
        "        for x in range(outputs_masked.attn_scores.shape[2]):\n",
        "            for y in range(outputs_masked.attn_scores.shape[3]):\n",
        "                axis[i, j].text(y, x, f\"{outputs_masked.attn_scores[i, j, x, y]:.2f}\", ha=\"center\", va=\"center\", color=\"w\")\n",
        "fig.suptitle(\"multi head attention with mask\")\n",
        "plt.show()"
      ]
    },
    {
      "cell_type": "markdown",
      "metadata": {
        "id": "GkzzrRWVN4yE"
      },
      "source": [
        "#### Transformer-Block"
      ]
    },
    {
      "cell_type": "code",
      "execution_count": 23,
      "metadata": {
        "id": "b16xpL47N4yE",
        "ExecuteTime": {
          "end_time": "2024-05-07T03:31:39.174386400Z",
          "start_time": "2024-05-07T03:31:39.151416200Z"
        }
      },
      "outputs": [],
      "source": [
        "# 通过使用 @dataclass 装饰器，Python 会自动为该类生成一些方法，如 __init__()、__repr__() 和 __eq__() 等，这些方法可以使类的使用更加方便。\n",
        "@dataclass\n",
        "class TransformerBlockOutput:\n",
        "# hidden_states: Tensor：用于存储某个块产生的隐藏状态。\n",
        "# self_attn_scores: Tensor：包含了自注意力机制（self-attention）所计算得到的注意力分数。\n",
        "# cross_attn_scores: Optional[Tensor] = None：是一个可选字段，存储了交叉注意力（cross-attention）计算得到的注意力分数。这里的 Optional 表示这个字段可以是 Tensor 类型，也可以是 None。\n",
        "    hidden_states: Tensor\n",
        "    self_attn_scores: Tensor\n",
        "    cross_attn_scores: Optional[Tensor] = None\n",
        "\n",
        "class TransformerBlock(nn.Module):\n",
        "    def __init__(self, config, add_cross_attention=False):\n",
        "        super().__init__()\n",
        "        # hyper params\n",
        "        self.hidden_size = config[\"d_model\"]\n",
        "        self.num_heads = config[\"num_heads\"]\n",
        "        dropout_rate = config[\"dropout\"]\n",
        "        ffn_dim = config[\"dim_feedforward\"]\n",
        "        eps = config[\"layer_norm_eps\"] # 层归一化的epsilon值\n",
        "\n",
        "        # self-attention\n",
        "        self.self_atten = MultiHeadAttention(config) # 多头注意力\n",
        "        self.self_ln = nn.LayerNorm(self.hidden_size, eps=eps) #层归一化(层标准化)\n",
        "        self.self_dropout = nn.Dropout(dropout_rate)\n",
        "\n",
        "        # cross-attention，交叉注意力，decoder中使用,因此额外做一个判断\n",
        "        if add_cross_attention:\n",
        "            self.cross_atten = MultiHeadAttention(config)\n",
        "            self.cross_ln = nn.LayerNorm(self.hidden_size, eps=eps)\n",
        "            self.cross_dropout = nn.Dropout(dropout_rate)\n",
        "        else:\n",
        "            self.cross_atten = None\n",
        "\n",
        "        # FFN,前馈神经网络\n",
        "        self.ffn = nn.Sequential(\n",
        "            nn.Linear(self.hidden_size, ffn_dim),\n",
        "            nn.ReLU(),\n",
        "            nn.Linear(ffn_dim, self.hidden_size),\n",
        "        )\n",
        "        self.ffn_ln = nn.LayerNorm(self.hidden_size, eps=eps)\n",
        "        self.ffn_dropout = nn.Dropout(dropout_rate)\n",
        "\n",
        "    def forward(\n",
        "        self,\n",
        "        hidden_states,\n",
        "        attn_mask=None,\n",
        "        encoder_outputs=None,\n",
        "        cross_attn_mask=None,\n",
        "    ):\n",
        "        # self-attention,自注意力\n",
        "        self_atten_output = self.self_atten(\n",
        "            hidden_states, hidden_states, hidden_states, attn_mask\n",
        "        )\n",
        "        self_embeds = self.self_ln(\n",
        "            hidden_states + self.self_dropout(self_atten_output.hidden_states)\n",
        "        ) #多头注意力进行dropout，然后和原始输入进行残差连接，然后进行层归一化\n",
        "\n",
        "        # cross-attention，交叉注意力\n",
        "        if self.cross_atten is not None:\n",
        "            assert encoder_outputs is not None\n",
        "            cross_atten_output = self.cross_atten(\n",
        "                self_embeds, encoder_outputs, encoder_outputs, cross_attn_mask\n",
        "            ) #query是self_embeds，key和value都是encoder_outputs\n",
        "            cross_embeds = self.cross_ln(\n",
        "                self_embeds + self.cross_dropout(cross_atten_output.hidden_states)\n",
        "            ) # 交叉注意力进行dropout，然后和self_embeds进行残差连接，然后进行层归一化\n",
        "\n",
        "        # FFN\n",
        "        embeds = cross_embeds if self.cross_atten is not None else self_embeds # 如果有交叉注意力，则使用交叉注意力的输出作为FFN的输入；否则，使用self_embeds作为FFN的输入\n",
        "        ffn_output = self.ffn(embeds) # 前馈神经网络\n",
        "        embeds = self.ffn_ln(embeds + self.ffn_dropout(ffn_output)) # 前馈神经网络进行dropout，然后和原始输入进行残差连接，然后进行层归一化\n",
        "\n",
        "        return TransformerBlockOutput(\n",
        "            hidden_states=embeds,\n",
        "            self_attn_scores=self_atten_output.attn_scores,\n",
        "            cross_attn_scores=cross_atten_output.attn_scores\n",
        "            if self.cross_atten is not None\n",
        "            else None,\n",
        "        )"
      ]
    },
    {
      "cell_type": "markdown",
      "metadata": {
        "id": "tfJIGaohN4yE"
      },
      "source": [
        "#### Encoder"
      ]
    },
    {
      "cell_type": "code",
      "execution_count": 24,
      "metadata": {
        "id": "sTLabHm7N4yE",
        "ExecuteTime": {
          "end_time": "2024-05-07T03:41:33.157926700Z",
          "start_time": "2024-05-07T03:41:33.133577700Z"
        }
      },
      "outputs": [],
      "source": [
        "from typing import List\n",
        "\n",
        "@dataclass\n",
        "class TransformerEncoderOutput:\n",
        "    last_hidden_states: Tensor\n",
        "    attn_scores: List[Tensor]\n",
        "\n",
        "# https://pytorch.org/docs/stable/generated/torch.nn.Module.html#torch.nn.Module\n",
        "class TransformerEncoder(nn.Module):\n",
        "    def __init__(self, config):\n",
        "        super().__init__()\n",
        "        # hyper params\n",
        "        self.num_layers = config[\"num_encoder_layers\"]\n",
        "\n",
        "        # layers\n",
        "        self.layers = nn.ModuleList(\n",
        "            [TransformerBlock(config) for _ in range(self.num_layers)]\n",
        "        )\n",
        "\n",
        "    def forward(\n",
        "        self, encoder_inputs_embeds, attn_mask=None\n",
        "    ) -> TransformerEncoderOutput:\n",
        "        attn_scores = [] # 存储每个层的注意力分数\n",
        "        embeds = encoder_inputs_embeds # 输入的嵌入向量作为第一层的输入(embedding+位置编码)\n",
        "        for layer in self.layers:\n",
        "            block_outputs = layer(embeds, attn_mask=attn_mask)\n",
        "            embeds = block_outputs.hidden_states #上一层的输出作为下一层的输入\n",
        "            # 在每个层的输出中，提取了隐藏状态 block_outputs.hidden_states，并将对应的注意力分数 block_outputs.self_attn_scores 添加到列表 attn_scores 中。\n",
        "            attn_scores.append(block_outputs.self_attn_scores) # 存储每个层的注意力分数,用于画图\n",
        "\n",
        "        return TransformerEncoderOutput(\n",
        "            last_hidden_states=embeds, attn_scores=attn_scores\n",
        "        )\n",
        "\n"
      ]
    },
    {
      "cell_type": "markdown",
      "metadata": {
        "id": "BEMNj6eBN4yE"
      },
      "source": [
        "#### Decoder"
      ]
    },
    {
      "cell_type": "code",
      "execution_count": 25,
      "metadata": {
        "id": "wCHOur-QN4yE",
        "ExecuteTime": {
          "end_time": "2024-05-07T06:38:26.051704700Z",
          "start_time": "2024-05-07T06:38:26.027226900Z"
        }
      },
      "outputs": [],
      "source": [
        "@dataclass\n",
        "class TransformerDecoderOutput:\n",
        "    last_hidden_states: Tensor\n",
        "    self_attn_scores: List[Tensor]\n",
        "    cross_attn_scores: List[Tensor]\n",
        "\n",
        "\n",
        "class TransformerDecoder(nn.Module):\n",
        "    def __init__(self, config):\n",
        "        super().__init__()\n",
        "        # hyper params\n",
        "        self.num_layers = config[\"num_decoder_layers\"]\n",
        "\n",
        "        # layers\n",
        "        self.layers = nn.ModuleList(\n",
        "            [\n",
        "                TransformerBlock(config, add_cross_attention=True)\n",
        "                for _ in range(self.num_layers)\n",
        "            ]\n",
        "        )\n",
        "\n",
        "    def forward(\n",
        "        self,\n",
        "        decoder_inputs_embeds,\n",
        "        encoder_outputs,\n",
        "        attn_mask=None,\n",
        "        cross_attn_mask=None,\n",
        "    ) -> TransformerDecoderOutput:\n",
        "        self_attn_scores = [] # 存储每个层的自注意力分数\n",
        "        cross_attn_scores = [] # 存储每个层的交叉注意力分数\n",
        "        embeds = decoder_inputs_embeds # 输入的嵌入向量作为第一层的输入(embedding+位置编码)\n",
        "        for layer in self.layers:\n",
        "            block_outputs = layer(\n",
        "                embeds,\n",
        "                attn_mask=attn_mask, # 自注意力的mask\n",
        "                encoder_outputs=encoder_outputs,\n",
        "                cross_attn_mask=cross_attn_mask, # 交叉注意力的mask\n",
        "            )\n",
        "            embeds = block_outputs.hidden_states # 上一层的输出作为下一层的输入\n",
        "            self_attn_scores.append(block_outputs.self_attn_scores) # 存储每个层的自注意力分数\n",
        "            cross_attn_scores.append(block_outputs.cross_attn_scores) # 存储每个层的交叉注意力分数\n",
        "\n",
        "        return TransformerDecoderOutput(\n",
        "            last_hidden_states=embeds,\n",
        "            self_attn_scores=self_attn_scores,\n",
        "            cross_attn_scores=cross_attn_scores,\n",
        "        )\n"
      ]
    },
    {
      "cell_type": "markdown",
      "metadata": {
        "id": "zPrvXAXtN4yF"
      },
      "source": [
        "#### mask\n",
        "\n",
        "- mask实际上大类上只有两种\n",
        "    1. `padding_mask`：mask掉`pad_idx`，不计算损失\n",
        "    2. `attention_mask`：mask掉`pad_idx`，不计算注意力分数\n",
        "- Decoder的`attention_mask`和Encoder有一定的区别：\n",
        "    - Encoder可以同时看见序列所有信息，故只mask掉`pad_idx`\n",
        "    - Decoder只能看到在自身之前的序列的信息，故要额外mask掉自身之后的序列"
      ]
    },
    {
      "cell_type": "code",
      "execution_count": 26,
      "outputs": [
        {
          "output_type": "execute_result",
          "data": {
            "text/plain": [
              "tensor([[False,  True,  True,  True,  True],\n",
              "        [False, False,  True,  True,  True],\n",
              "        [False, False, False,  True,  True],\n",
              "        [False, False, False, False,  True],\n",
              "        [False, False, False, False, False]])"
            ]
          },
          "metadata": {},
          "execution_count": 26
        }
      ],
      "source": [
        "(torch.triu(torch.ones(5, 5)) == 0).transpose(-1,-2)"
      ],
      "metadata": {
        "ExecuteTime": {
          "end_time": "2024-05-07T06:46:48.732402100Z",
          "start_time": "2024-05-07T06:46:48.682431Z"
        },
        "colab": {
          "base_uri": "https://localhost:8080/"
        },
        "id": "D2N9VmcAWLn1",
        "outputId": "bb73d3e6-a008-45f1-b7ca-00307513b22f"
      }
    },
    {
      "cell_type": "code",
      "execution_count": 27,
      "metadata": {
        "colab": {
          "base_uri": "https://localhost:8080/",
          "height": 426
        },
        "id": "QxpSYOsaN4yF",
        "outputId": "146c7b80-b959-432e-fe8a-d59e5e7b7092",
        "ExecuteTime": {
          "end_time": "2024-05-07T06:49:18.469524Z",
          "start_time": "2024-05-07T06:49:15.553572Z"
        }
      },
      "outputs": [
        {
          "output_type": "display_data",
          "data": {
            "text/plain": [
              "<Figure size 480x480 with 2 Axes>"
            ],
            "image/png": "[encoded data removed]"
          },
          "metadata": {}
        }
      ],
      "source": [
        "\n",
        "def generate_square_subsequent_mask(sz: int) -> Tensor:\n",
        "    \"\"\"\n",
        "    Generate a square mask for the sequence. The masked positions are filled with True.\n",
        "        Unmasked positions are filled with False.\n",
        "    \"\"\"\n",
        "    # torch.ones(sz, sz): 创建一个全为 1 的 sz × sz 的矩阵。\n",
        "    # torch.triu(...): 使用 triu 函数取得矩阵的上三角部分，将主对角线以下部分置零。\n",
        "    mask = (torch.triu(torch.ones(sz, sz)) == 0).transpose(-1, -2).bool()\n",
        "    # mask = torch.triu(torch.ones(sz, sz))\n",
        "    return mask\n",
        "\n",
        "\n",
        "plt.matshow(generate_square_subsequent_mask(16))\n",
        "plt.colorbar()\n",
        "plt.xlabel(\"keys\")\n",
        "plt.ylabel(\"querys\")\n",
        "plt.title(\"1 means mask while 0 means unmask\")\n",
        "plt.show()"
      ]
    },
    {
      "cell_type": "code",
      "execution_count": 28,
      "metadata": {
        "colab": {
          "base_uri": "https://localhost:8080/",
          "height": 960
        },
        "id": "cPeMjXO1N4yF",
        "outputId": "7ffb1e4e-dfec-48fa-a7d9-6fe03233e624",
        "ExecuteTime": {
          "end_time": "2024-05-07T06:50:39.892440700Z",
          "start_time": "2024-05-07T06:50:34.690226700Z"
        }
      },
      "outputs": [
        {
          "output_type": "stream",
          "name": "stdout",
          "text": [
            "['[BOS]', '[UNK]', '[UNK]', 'brown', '[UNK]', 'jumps', 'over', 'the', '[UNK]', 'dog', '.', '[EOS]']\n"
          ]
        },
        {
          "output_type": "display_data",
          "data": {
            "text/plain": [
              "<Figure size 1000x500 with 2 Axes>"
            ],
            "image/png": "[encoded data removed]"
          },
          "metadata": {}
        },
        {
          "output_type": "stream",
          "name": "stdout",
          "text": [
            "--------------------------------------------------\n",
            "['[BOS]', '[UNK]', 'does', 'the', '[UNK]', 'say', '?', '[EOS]', '[PAD]', '[PAD]', '[PAD]', '[PAD]']\n"
          ]
        },
        {
          "output_type": "display_data",
          "data": {
            "text/plain": [
              "<Figure size 1000x500 with 2 Axes>"
            ],
            "image/png": "[encoded data removed]"
          },
          "metadata": {}
        },
        {
          "output_type": "stream",
          "name": "stdout",
          "text": [
            "--------------------------------------------------\n"
          ]
        }
      ],
      "source": [
        "#通过下面代码查看mask的效果\n",
        "inputs_words = [\"The quick brown fox jumps over the lazy dog .\", \"What does the fox say ?\"]\n",
        "\n",
        "inputs_ids, input_mask = tokenizer.encode([w.split() for w in inputs_words], return_mask=True)\n",
        "for i in range(len(inputs_words)):\n",
        "    decode_text = tokenizer.decode(inputs_ids[i: i+1].tolist(), remove_bos=False, remove_eos=False, remove_pad=False, split=True)[0]\n",
        "    print(decode_text)\n",
        "    self_attn_mask  = input_mask[i].reshape(1, -1).repeat_interleave(inputs_ids.shape[-1], dim=0)\n",
        "    look_ahead_mask = generate_square_subsequent_mask(inputs_ids.shape[-1])\n",
        "\n",
        "    fig, axs = plt.subplots(1, 2, figsize=(10, 5))\n",
        "    axs[0].matshow(self_attn_mask)\n",
        "    axs[0].set_title(\"self_attn_mask\")\n",
        "    axs[0].set_yticks(range(len(decode_text)), decode_text, fontsize=6)\n",
        "    axs[0].set_ylabel(\"querys\")\n",
        "    axs[0].set_xticks(range(len(decode_text)), decode_text, fontsize=6)\n",
        "    axs[0].set_xlabel(\"keys\")\n",
        "    axs[1].matshow(look_ahead_mask)\n",
        "    axs[1].set_title(\"look_ahead_mask\")\n",
        "    axs[1].set_yticks(range(len(decode_text)), decode_text, fontsize=6)\n",
        "    axs[1].set_ylabel(\"querys\")\n",
        "    axs[1].set_xticks(range(len(decode_text)), decode_text, fontsize=6)\n",
        "    axs[1].set_xlabel(\"keys\")\n",
        "    plt.show()\n",
        "    print('-'*50)"
      ]
    },
    {
      "cell_type": "markdown",
      "metadata": {
        "id": "TelCDOoEN4yF"
      },
      "source": [
        "#### Transformer Model"
      ]
    },
    {
      "cell_type": "code",
      "execution_count": 63,
      "metadata": {
        "id": "oFGNt8FPN4yF",
        "ExecuteTime": {
          "end_time": "2024-05-07T08:31:44.400274200Z",
          "start_time": "2024-05-07T08:31:44.353301500Z"
        }
      },
      "outputs": [],
      "source": [
        "@dataclass\n",
        "class TransformerOutput:\n",
        "    logits: Tensor\n",
        "    encoder_last_hidden_states: Tensor\n",
        "    encoder_attn_scores: List[Tensor]\n",
        "    decoder_last_hidden_states: Tensor\n",
        "    decoder_self_attn_scores: List[Tensor]\n",
        "    decoder_cross_attn_scores: List[Tensor]\n",
        "    preds: Optional[Tensor] = None\n",
        "\n",
        "class TransformerModel(nn.Module):\n",
        "    def __init__(self, config):\n",
        "        super().__init__()\n",
        "        # hyper params\n",
        "        self.hidden_size = config[\"d_model\"]\n",
        "        self.num_encoder_layers = config[\"num_encoder_layers\"]\n",
        "        self.num_decoder_layers = config[\"num_decoder_layers\"]\n",
        "        self.pad_idx = config[\"pad_idx\"]\n",
        "        self.bos_idx = config[\"bos_idx\"]\n",
        "        self.eos_idx = config[\"eos_idx\"]\n",
        "        self.vocab_size = config[\"vocab_size\"]\n",
        "        self.dropout_rate = config[\"dropout\"]\n",
        "        self.max_length = config[\"max_length\"]\n",
        "        self.share = config[\"share_embedding\"]\n",
        "\n",
        "        # layers\n",
        "        self.src_embedding = TransformerEmbedding(config) # 输入的嵌入层\n",
        "        if self.share:#如果共享词嵌入，则使用src_embedding作为trg_embedding\n",
        "            self.trg_embedding = self.src_embedding #源和目标的嵌入层相同，共享参数，节省内存\n",
        "            self.linear = lambda x: torch.matmul(\n",
        "                x, self.trg_embedding.get_word_embedding_weights().T\n",
        "            ) # 输出层，共享参数，直接拿原有embedding矩阵的转置，节省内存\n",
        "        else:\n",
        "            self.trg_embedding = TransformerEmbedding(config) #decoder模块的嵌入层\n",
        "            self.linear = nn.Linear(self.hidden_size, self.vocab_size) # 输出层\n",
        "\n",
        "        self.encoder = TransformerEncoder(config)\n",
        "        self.decoder = TransformerDecoder(config)\n",
        "\n",
        "        # init weights\n",
        "        self._init_weights()\n",
        "\n",
        "    def _init_weights(self):\n",
        "        \"\"\"使用 xavier 均匀分布来初始化权重\"\"\"\n",
        "        for p in self.parameters():\n",
        "            if p.dim() > 1:\n",
        "                nn.init.xavier_uniform_(p)\n",
        "\n",
        "    def generate_square_subsequent_mask(self, sz: int) -> Tensor:\n",
        "        \"\"\"\n",
        "        Generate a square mask for the sequence. The masked positions are filled with True.\n",
        "            Unmasked positions are filled with False.为了生成斜三角的mask\n",
        "        \"\"\"\n",
        "        mask = (torch.triu(torch.ones(sz, sz)) == 0).transpose(-1, -2).bool()\n",
        "\n",
        "        return mask\n",
        "\n",
        "    def forward(\n",
        "        self, encoder_inputs, decoder_inputs, encoder_inputs_mask=None\n",
        "    ) -> TransformerOutput:\n",
        "        # encoder_inputs: [batch_size, src_len]\n",
        "        # decoder_inputs: [batch_size, trg_len]\n",
        "        # encoder_inputs_mask: [batch_size, src_len]\n",
        "        if encoder_inputs_mask is None:\n",
        "            encoder_inputs_mask = encoder_inputs.eq(self.pad_idx) # [batch_size, src_len]\n",
        "        encoder_inputs_mask = encoder_inputs_mask.unsqueeze(1).unsqueeze(\n",
        "            2\n",
        "        )  # [batch_size, 1, 1, src_len],用于encoder的自注意力\n",
        "        look_ahead_mask = self.generate_square_subsequent_mask(decoder_inputs.shape[1])\n",
        "        look_ahead_mask = (\n",
        "            look_ahead_mask.unsqueeze(0).unsqueeze(0).to(decoder_inputs.device)\n",
        "        )  # [1, 1, trg_len, trg_len],用于decoder的自注意力\n",
        "        #增加decoder_inputs_mask和look_ahead_mask进行组合\n",
        "        decoder_inputs_mask = decoder_inputs.eq(self.pad_idx) # [batch_size, trg_len]\n",
        "        # print(decoder_inputs_mask.shape)\n",
        "        decoder_inputs_mask = decoder_inputs_mask.unsqueeze(1).unsqueeze(2)  # [batch_size, 1, 1, trg_len]\n",
        "        # print(decoder_inputs_mask.shape)\n",
        "        decoder_inputs_mask = decoder_inputs_mask + look_ahead_mask # [batch_size, 1, 1, trg_len]与[1, 1, trg_len, trg_len]相加，得到decoder的自注意力mask\n",
        "\n",
        "        # encoding\n",
        "        encoder_inputs_embeds = self.src_embedding(encoder_inputs)\n",
        "        encoder_outputs = self.encoder(encoder_inputs_embeds, encoder_inputs_mask) #encoder_inputs_mask用于encoder的自注意力,广播去做计算\n",
        "\n",
        "        # decoding\n",
        "        decoder_inputs_embeds = self.trg_embedding(decoder_inputs)\n",
        "        decoder_outputs = self.decoder(\n",
        "            decoder_inputs_embeds=decoder_inputs_embeds,\n",
        "            encoder_outputs=encoder_outputs.last_hidden_states,\n",
        "            attn_mask=decoder_inputs_mask, #用于decoder的自注意力,广播去做计算\n",
        "            cross_attn_mask=encoder_inputs_mask,#用于decoder的交叉注意力,广播去做计算\n",
        "        )\n",
        "\n",
        "        logits = self.linear(decoder_outputs.last_hidden_states)\n",
        "\n",
        "        return TransformerOutput(\n",
        "            logits=logits,\n",
        "            encoder_last_hidden_states=encoder_outputs.last_hidden_states,\n",
        "            encoder_attn_scores=encoder_outputs.attn_scores,\n",
        "            decoder_last_hidden_states=decoder_outputs.last_hidden_states,\n",
        "            decoder_self_attn_scores=decoder_outputs.self_attn_scores,\n",
        "            decoder_cross_attn_scores=decoder_outputs.cross_attn_scores,\n",
        "        )\n",
        "\n",
        "    @torch.no_grad()\n",
        "    def infer(self, encoder_inputs, encoder_inputs_mask=None) -> Tensor:\n",
        "        # assert len(encoder_inputs.shape) == 2 and encoder_inputs.shape[0] == 1\n",
        "        if encoder_inputs_mask is None:#应对多个样本同时进行推理\n",
        "            encoder_inputs_mask = encoder_inputs.eq(self.pad_idx)\n",
        "        encoder_inputs_mask = encoder_inputs_mask.unsqueeze(1).unsqueeze(2)  # [batch_size, 1, 1, src_len],[1,src_len]相加时，会自动广播到[batch_size,1,src_len,src_len]\n",
        "        look_ahead_mask = self.generate_square_subsequent_mask(self.max_length)\n",
        "        look_ahead_mask = (\n",
        "            look_ahead_mask.unsqueeze(0).unsqueeze(0).to(encoder_inputs.device)\n",
        "        )  # [1, 1, trg_len, trg_len]\n",
        "\n",
        "        # encoding\n",
        "        encoder_inputs_embeds = self.src_embedding(encoder_inputs)\n",
        "        encoder_outputs = self.encoder(encoder_inputs_embeds) #因为只支持单样本预测，没有paddings，所以不需要mask\n",
        "\n",
        "        # decoding\n",
        "        decoder_inputs = torch.Tensor([self.bos_idx] * encoder_inputs.shape[0]).reshape(-1, 1).long().to(device=encoder_inputs.device)\n",
        "        for cur_len in tqdm(range(1, self.max_length + 1)):\n",
        "            decoder_inputs_embeds = self.trg_embedding(decoder_inputs)\n",
        "            decoder_outputs = self.decoder(\n",
        "                decoder_inputs_embeds=decoder_inputs_embeds,\n",
        "                encoder_outputs=encoder_outputs.last_hidden_states,\n",
        "                attn_mask=look_ahead_mask[:, :, :cur_len, :cur_len],#decoder的自注意力mask\n",
        "            )\n",
        "\n",
        "            logits = self.linear(decoder_outputs.last_hidden_states)\n",
        "            next_token = logits.argmax(dim=-1)[:, -1:] #通过最大下标确定类别，[:, -1:]表示取最后一个结果\n",
        "            decoder_inputs = torch.cat([decoder_inputs, next_token], dim=-1) #预测输出拼接到输入中\n",
        "\n",
        "            if all((decoder_inputs == self.eos_idx).sum(dim=-1) > 0):\n",
        "                break\n",
        "\n",
        "        return TransformerOutput(\n",
        "            preds=decoder_inputs[:, 1:],\n",
        "            logits=logits,\n",
        "            encoder_last_hidden_states=encoder_outputs.last_hidden_states,\n",
        "            encoder_attn_scores=encoder_outputs.attn_scores,\n",
        "            decoder_last_hidden_states=decoder_outputs.last_hidden_states,\n",
        "            decoder_self_attn_scores=decoder_outputs.self_attn_scores,\n",
        "            decoder_cross_attn_scores=decoder_outputs.cross_attn_scores,\n",
        "        )"
      ]
    },
    {
      "cell_type": "markdown",
      "metadata": {
        "id": "kXHQ3sGTN4yG"
      },
      "source": [
        "## 训练"
      ]
    },
    {
      "cell_type": "markdown",
      "metadata": {
        "id": "OxNA8DIzN4yG"
      },
      "source": [
        "### 损失函数"
      ]
    },
    {
      "cell_type": "code",
      "execution_count": 42,
      "metadata": {
        "id": "1xzahHANN4yG",
        "ExecuteTime": {
          "end_time": "2024-05-07T08:38:16.963723900Z",
          "start_time": "2024-05-07T08:38:16.950725500Z"
        }
      },
      "outputs": [],
      "source": [
        "class CrossEntropyWithPadding:\n",
        "    def __init__(self, config):\n",
        "        self.label_smoothing = config[\"label_smoothing\"]\n",
        "\n",
        "    def __call__(self, logits, labels, padding_mask=None):\n",
        "        # logits.shape = [batch size, sequence length, num of classes]\n",
        "        # labels.shape = [batch size, sequence length]\n",
        "        # padding_mask.shape = [batch size, sequence length]\n",
        "        bs, seq_len, nc = logits.shape\n",
        "        loss = F.cross_entropy(logits.reshape(bs * seq_len, nc), labels.reshape(-1), reduce=False, label_smoothing=self.label_smoothing) #label_smoothing表示随机将一个类别的概率设置为0.1，使得模型更加关注其他类别\n",
        "        if padding_mask is None:\n",
        "            loss = loss.mean()\n",
        "        else:\n",
        "            padding_mask = 1 - padding_mask.reshape(-1) #将padding_mask reshape成一维张量，mask部分为0，非mask部分为1\n",
        "            loss = torch.mul(loss, padding_mask).sum() / padding_mask.sum()\n",
        "\n",
        "        return loss\n"
      ]
    },
    {
      "cell_type": "markdown",
      "metadata": {
        "id": "zuBC9KqFN4yG"
      },
      "source": [
        "### 学习率衰减"
      ]
    },
    {
      "cell_type": "code",
      "execution_count": 43,
      "metadata": {
        "colab": {
          "base_uri": "https://localhost:8080/",
          "height": 449
        },
        "id": "UQPiKK4nN4yG",
        "outputId": "ade67ff9-8ae3-4820-cbb2-88450b0baa37",
        "ExecuteTime": {
          "end_time": "2024-05-07T08:40:00.297794300Z",
          "start_time": "2024-05-07T08:40:00.033739300Z"
        }
      },
      "outputs": [
        {
          "output_type": "display_data",
          "data": {
            "text/plain": [
              "<Figure size 640x480 with 1 Axes>"
            ],
            "image/png": "[encoded data removed]"
          },
          "metadata": {}
        }
      ],
      "source": [
        "# NoamDecayScheduler 是一个自定义或外部定义的学习率衰减调度器类。它需要接收配置 config 作为参数，可能实现了特定的学习率衰减方案\n",
        "class NoamDecayScheduler:\n",
        "    def __init__(self, config):\n",
        "        self.d_model = config[\"d_model\"]\n",
        "        self.warmup_steps = config[\"warmup_steps\"]\n",
        "\n",
        "    def __call__(self, step):\n",
        "        step += 1\n",
        "        arg1 = step ** (-0.5)\n",
        "        arg2 = step * (self.warmup_steps ** (-1.5))\n",
        "\n",
        "        arg3 = self.d_model ** (-0.5)\n",
        "\n",
        "        return arg3 * np.minimum(arg1, arg2)\n",
        "\n",
        "\n",
        "temp_learning_rate_schedule = NoamDecayScheduler({\"d_model\": 512, \"warmup_steps\": 4000})\n",
        "#下面是学习率的设计图\n",
        "plt.plot(temp_learning_rate_schedule(np.arange(0, 40000)))\n",
        "plt.ylabel(\"Leraning rate\")\n",
        "plt.xlabel(\"Train step\")\n",
        "plt.show()\n"
      ]
    },
    {
      "cell_type": "markdown",
      "metadata": {
        "id": "XHj_EjzlN4yW"
      },
      "source": [
        "### 优化器"
      ]
    },
    {
      "cell_type": "code",
      "execution_count": 44,
      "metadata": {
        "id": "1EVLKx2rN4yW",
        "ExecuteTime": {
          "end_time": "2024-05-07T08:42:04.106547400Z",
          "start_time": "2024-05-07T08:42:04.057950500Z"
        }
      },
      "outputs": [],
      "source": [
        "from torch.optim.lr_scheduler import LambdaLR\n",
        "from torch.optim import Adam\n",
        "\n",
        "def get_optimizer(model, config):\n",
        "    base_lr = 0.1\n",
        "    beta1 = config[\"beta1\"] # Adam 的 beta1\n",
        "    beta2 = config[\"beta2\"] # Adam 的 beta2\n",
        "    eps = config[\"eps\"]\n",
        "    optimizer = Adam(model.parameters(), lr=base_lr, betas=(beta1, beta2), eps=eps)\n",
        "    lr_scheduler = NoamDecayScheduler(config) #config是一个字典，包含了学习率衰减的参数\n",
        "    # 使用 LambdaLR 调度器，它可以根据给定的函数 lr_lambda 调整学习率。这里将 lr_scheduler 作为函数传递给 LambdaLR，它包含了特定于模型或任务的学习率调度规则\n",
        "    scheduler = LambdaLR(optimizer, lr_lambda=lr_scheduler)\n",
        "    return optimizer, scheduler"
      ]
    },
    {
      "cell_type": "markdown",
      "metadata": {
        "id": "JBhiO7O2N4yW"
      },
      "source": [
        "### Callback"
      ]
    },
    {
      "cell_type": "code",
      "execution_count": 45,
      "metadata": {
        "id": "rWFMJwBkN4yX",
        "ExecuteTime": {
          "end_time": "2024-05-07T08:42:26.156532Z",
          "start_time": "2024-05-07T08:42:10.242840Z"
        }
      },
      "outputs": [],
      "source": [
        "from torch.utils.tensorboard import SummaryWriter\n",
        "\n",
        "\n",
        "class TensorBoardCallback:\n",
        "    def __init__(self, log_dir, flush_secs=10):\n",
        "        \"\"\"\n",
        "        Args:\n",
        "            log_dir (str): dir to write log.\n",
        "            flush_secs (int, optional): write to dsk each flush_secs seconds. Defaults to 10.\n",
        "        \"\"\"\n",
        "        self.writer = SummaryWriter(log_dir=log_dir, flush_secs=flush_secs)\n",
        "\n",
        "    def draw_model(self, model, input_shape):\n",
        "        self.writer.add_graph(model, input_to_model=torch.randn(input_shape))\n",
        "\n",
        "    def add_loss_scalars(self, step, loss, val_loss):\n",
        "        self.writer.add_scalars(\n",
        "            main_tag=\"training/loss\",\n",
        "            tag_scalar_dict={\"loss\": loss, \"val_loss\": val_loss},\n",
        "            global_step=step,\n",
        "            )\n",
        "\n",
        "    def add_acc_scalars(self, step, acc, val_acc):\n",
        "        self.writer.add_scalars(\n",
        "            main_tag=\"training/accuracy\",\n",
        "            tag_scalar_dict={\"accuracy\": acc, \"val_accuracy\": val_acc},\n",
        "            global_step=step,\n",
        "        )\n",
        "\n",
        "    def add_lr_scalars(self, step, learning_rate):\n",
        "        self.writer.add_scalars(\n",
        "            main_tag=\"training/learning_rate\",\n",
        "            tag_scalar_dict={\"learning_rate\": learning_rate},\n",
        "            global_step=step,\n",
        "\n",
        "        )\n",
        "\n",
        "    def __call__(self, step, **kwargs):\n",
        "        # add loss\n",
        "        loss = kwargs.pop(\"loss\", None)\n",
        "        val_loss = kwargs.pop(\"val_loss\", None)\n",
        "        if loss is not None and val_loss is not None:\n",
        "            self.add_loss_scalars(step, loss, val_loss)\n",
        "        # add acc\n",
        "        acc = kwargs.pop(\"acc\", None)\n",
        "        val_acc = kwargs.pop(\"val_acc\", None)\n",
        "        if acc is not None and val_acc is not None:\n",
        "            self.add_acc_scalars(step, acc, val_acc)\n",
        "        # add lr\n",
        "        learning_rate = kwargs.pop(\"lr\", None)\n",
        "        if learning_rate is not None:\n",
        "            self.add_lr_scalars(step, learning_rate)\n"
      ]
    },
    {
      "cell_type": "code",
      "execution_count": 46,
      "metadata": {
        "id": "64y_NBHMN4yX",
        "ExecuteTime": {
          "end_time": "2024-05-07T08:42:31.746841Z",
          "start_time": "2024-05-07T08:42:31.716829900Z"
        }
      },
      "outputs": [],
      "source": [
        "class SaveCheckpointsCallback:\n",
        "    def __init__(self, save_dir, save_step=5000, save_best_only=True):\n",
        "        \"\"\"\n",
        "        Save checkpoints each save_epoch epoch.\n",
        "        We save checkpoint by epoch in this implementation.\n",
        "        Usually, training scripts with pytorch evaluating model and save checkpoint by step.\n",
        "\n",
        "        Args:\n",
        "            save_dir (str): dir to save checkpoint\n",
        "            save_epoch (int, optional): the frequency to save checkpoint. Defaults to 1.\n",
        "            save_best_only (bool, optional): If True, only save the best model or save each model at every epoch.\n",
        "        \"\"\"\n",
        "        self.save_dir = save_dir\n",
        "        self.save_step = save_step\n",
        "        self.save_best_only = save_best_only\n",
        "        self.best_metrics = - np.inf\n",
        "\n",
        "        # mkdir\n",
        "        if not os.path.exists(self.save_dir):\n",
        "            os.mkdir(self.save_dir)\n",
        "\n",
        "    def __call__(self, step, state_dict, metric=None):\n",
        "        if step % self.save_step > 0:\n",
        "            return\n",
        "\n",
        "        if self.save_best_only:\n",
        "            assert metric is not None\n",
        "            if metric >= self.best_metrics:\n",
        "                # save checkpoints\n",
        "                torch.save(state_dict, os.path.join(self.save_dir, \"best.ckpt\"))\n",
        "                # update best metrics\n",
        "                self.best_metrics = metric\n",
        "        else:\n",
        "            torch.save(state_dict, os.path.join(self.save_dir, f\"{step}.ckpt\"))\n",
        "\n"
      ]
    },
    {
      "cell_type": "code",
      "execution_count": 47,
      "metadata": {
        "id": "Uk4PEb70N4yX",
        "ExecuteTime": {
          "end_time": "2024-05-07T08:42:35.351790900Z",
          "start_time": "2024-05-07T08:42:35.332801100Z"
        }
      },
      "outputs": [],
      "source": [
        "class EarlyStopCallback:\n",
        "    def __init__(self, patience=5, min_delta=0.01):\n",
        "        \"\"\"\n",
        "\n",
        "        Args:\n",
        "            patience (int, optional): Number of epochs with no improvement after which training will be stopped.. Defaults to 5.\n",
        "            min_delta (float, optional): Minimum change in the monitored quantity to qualify as an improvement, i.e. an absolute\n",
        "                change of less than min_delta, will count as no improvement. Defaults to 0.01.\n",
        "        \"\"\"\n",
        "        self.patience = patience\n",
        "        self.min_delta = min_delta\n",
        "        self.best_metric = - np.inf\n",
        "        self.counter = 0\n",
        "\n",
        "    def __call__(self, metric):\n",
        "        if metric >= self.best_metric + self.min_delta:\n",
        "            # update best metric\n",
        "            self.best_metric = metric\n",
        "            # reset counter\n",
        "            self.counter = 0\n",
        "        else:\n",
        "            self.counter += 1\n",
        "\n",
        "    @property\n",
        "    def early_stop(self):\n",
        "        return self.counter >= self.patience\n"
      ]
    },
    {
      "cell_type": "markdown",
      "metadata": {
        "id": "_AB84Qx1N4yX"
      },
      "source": [
        "### training & valuating"
      ]
    },
    {
      "cell_type": "code",
      "execution_count": 48,
      "metadata": {
        "id": "1mKPSFkON4yX",
        "ExecuteTime": {
          "end_time": "2024-05-07T08:45:22.121108700Z",
          "start_time": "2024-05-07T08:45:22.089130200Z"
        }
      },
      "outputs": [],
      "source": [
        "@torch.no_grad()\n",
        "def evaluating(model, dataloader, loss_fct):\n",
        "    loss_list = []\n",
        "    for batch in dataloader:\n",
        "        encoder_inputs = batch[\"encoder_inputs\"]\n",
        "        encoder_inputs_mask = batch[\"encoder_inputs_mask\"]\n",
        "        decoder_inputs = batch[\"decoder_inputs\"]\n",
        "        decoder_labels = batch[\"decoder_labels\"]\n",
        "        decoder_labels_mask = batch[\"decoder_labels_mask\"]\n",
        "\n",
        "        # 前向计算\n",
        "        outputs = model(\n",
        "            encoder_inputs=encoder_inputs,\n",
        "            decoder_inputs=decoder_inputs,\n",
        "            encoder_inputs_mask=encoder_inputs_mask\n",
        "            )\n",
        "        logits = outputs.logits\n",
        "        loss = loss_fct(logits, decoder_labels, padding_mask=decoder_labels_mask)         # 验证集损失\n",
        "        loss_list.append(loss.cpu().item())\n",
        "\n",
        "    return np.mean(loss_list)\n"
      ]
    },
    {
      "cell_type": "code",
      "execution_count": 49,
      "metadata": {
        "id": "PClBmtgWN4yY",
        "ExecuteTime": {
          "end_time": "2024-05-07T08:52:12.000292200Z",
          "start_time": "2024-05-07T08:52:11.972746200Z"
        }
      },
      "outputs": [],
      "source": [
        "# 训练\n",
        "def training(\n",
        "    model,\n",
        "    train_loader,\n",
        "    val_loader,\n",
        "    epoch,\n",
        "    loss_fct,\n",
        "    optimizer,\n",
        "    scheduler=None,\n",
        "    tensorboard_callback=None,\n",
        "    save_ckpt_callback=None,\n",
        "    early_stop_callback=None,\n",
        "    eval_step=500,\n",
        "    ):\n",
        "    record_dict = {\n",
        "        \"train\": [],\n",
        "        \"val\": []\n",
        "    }\n",
        "\n",
        "    global_step = 1\n",
        "    model.train()\n",
        "    with tqdm(total=epoch * len(train_loader)) as pbar:\n",
        "        for epoch_id in range(epoch):\n",
        "            # training\n",
        "            for batch in train_loader:\n",
        "                encoder_inputs = batch[\"encoder_inputs\"]\n",
        "                encoder_inputs_mask = batch[\"encoder_inputs_mask\"]\n",
        "                decoder_inputs = batch[\"decoder_inputs\"]\n",
        "                decoder_labels = batch[\"decoder_labels\"]\n",
        "                decoder_labels_mask = batch[\"decoder_labels_mask\"]\n",
        "                # 梯度清空\n",
        "                optimizer.zero_grad()\n",
        "\n",
        "                # 前向计算\n",
        "                outputs = model(\n",
        "                    encoder_inputs=encoder_inputs,\n",
        "                    decoder_inputs=decoder_inputs,\n",
        "                    encoder_inputs_mask=encoder_inputs_mask\n",
        "                    )\n",
        "                logits = outputs.logits\n",
        "                loss = loss_fct(logits, decoder_labels, padding_mask=decoder_labels_mask)\n",
        "\n",
        "                # 梯度回传\n",
        "                loss.backward()\n",
        "\n",
        "                # 调整优化器，包括学习率的变动等\n",
        "                optimizer.step()\n",
        "                if scheduler is not None:\n",
        "                    scheduler.step() # 更新学习率\n",
        "\n",
        "                loss = loss.cpu().item()\n",
        "                # record\n",
        "                record_dict[\"train\"].append({\n",
        "                    \"loss\": loss, \"step\": global_step\n",
        "                })\n",
        "\n",
        "                # evaluating\n",
        "                if global_step % eval_step == 0:\n",
        "                    model.eval()\n",
        "                    val_loss = evaluating(model, val_loader, loss_fct)\n",
        "                    record_dict[\"val\"].append({\n",
        "                        \"loss\": val_loss, \"step\": global_step\n",
        "                    })\n",
        "                    model.train()\n",
        "\n",
        "                    # 1. 使用 tensorboard 可视化\n",
        "                    cur_lr = optimizer.param_groups[0][\"lr\"] if scheduler is None else scheduler.get_last_lr()[0]\n",
        "                    if tensorboard_callback is not None:\n",
        "                        tensorboard_callback(\n",
        "                            global_step,\n",
        "                            loss=loss, val_loss=val_loss,\n",
        "                            lr=cur_lr,\n",
        "                            )\n",
        "\n",
        "                    # 2. 保存模型权重 save model checkpoint\n",
        "                    if save_ckpt_callback is not None:\n",
        "                        save_ckpt_callback(global_step, model.state_dict(), metric=-val_loss)\n",
        "\n",
        "                    # 3. 早停 Early Stop\n",
        "                    if early_stop_callback is not None:\n",
        "                        early_stop_callback(-val_loss)\n",
        "                        if early_stop_callback.early_stop:\n",
        "                            print(f\"Early stop at epoch {epoch_id} / global_step {global_step}\")\n",
        "                            return record_dict\n",
        "\n",
        "                # udate step\n",
        "                global_step += 1\n",
        "                pbar.update(1)\n",
        "            pbar.set_postfix({\"epoch\": epoch_id, \"loss\": loss, \"val_loss\": val_loss})\n",
        "\n",
        "    return record_dict\n"
      ]
    },
    {
      "cell_type": "code",
      "execution_count": 50,
      "metadata": {
        "colab": {
          "base_uri": "https://localhost:8080/"
        },
        "id": "khZqMS8pN4yY",
        "outputId": "6e924512-548a-4ae1-f62d-761908c93926",
        "ExecuteTime": {
          "end_time": "2024-05-07T08:52:34.996960Z",
          "start_time": "2024-05-07T08:52:34.662399200Z"
        }
      },
      "outputs": [
        {
          "output_type": "stream",
          "name": "stdout",
          "text": [
            "load train dataset from wmt16/.cache/de2en_train_128.npy\n",
            "load val dataset from wmt16/.cache/de2en_val_128.npy\n"
          ]
        }
      ],
      "source": [
        "config = {\n",
        "    \"bos_idx\": 1,\n",
        "    \"eos_idx\": 3,\n",
        "    \"pad_idx\": 0,\n",
        "    \"vocab_size\": len(word2idx),\n",
        "    \"max_length\": 128,\n",
        "    \"d_model\": 512,\n",
        "    \"dim_feedforward\": 2048,\n",
        "    \"dropout\": 0.1,\n",
        "    \"layer_norm_eps\": 1e-6, # 层归一化的 epsilon, 防止除零错误\n",
        "    \"num_heads\": 8,\n",
        "    \"num_decoder_layers\": 6,\n",
        "    \"num_encoder_layers\": 6,\n",
        "    \"label_smoothing\": 0.1,\n",
        "    \"beta1\": 0.9,\n",
        "    \"beta2\": 0.98,\n",
        "    \"eps\": 1e-9,\n",
        "    \"warmup_steps\": 4_000,\n",
        "    \"share_embedding\": False, # 是否共享词向量\n",
        "    }\n",
        "\n",
        "\n",
        "def get_dl(dataset, batch_size, shuffle=True):\n",
        "    sampler = TransformerBatchSampler(dataset, batch_size=batch_size, shuffle_batch=shuffle)\n",
        "    sample_dl = DataLoader(dataset, batch_sampler=sampler, collate_fn=partial(collate_fct, tokenizer=tokenizer))\n",
        "    return sample_dl\n",
        "\n",
        "# dataset\n",
        "train_ds = LangPairDataset(\"train\", max_length=config[\"max_length\"])\n",
        "val_ds = LangPairDataset(\"val\", max_length=config[\"max_length\"])\n",
        "# tokenizer\n",
        "tokenizer = Tokenizer(word2idx=word2idx, idx2word=idx2word, max_length=config[\"max_length\"])\n",
        "batch_size = 2048\n",
        "# dataloader\n",
        "train_dl = get_dl(train_ds, batch_size=batch_size, shuffle=True)\n",
        "val_dl = get_dl(val_ds, batch_size=batch_size, shuffle=False)"
      ]
    },
    {
      "cell_type": "code",
      "execution_count": 51,
      "outputs": [
        {
          "output_type": "execute_result",
          "data": {
            "text/plain": [
              "{'bos_idx': 1,\n",
              " 'eos_idx': 3,\n",
              " 'pad_idx': 0,\n",
              " 'vocab_size': 9718,\n",
              " 'max_length': 128,\n",
              " 'd_model': 512,\n",
              " 'dim_feedforward': 2048,\n",
              " 'dropout': 0.1,\n",
              " 'layer_norm_eps': 1e-06,\n",
              " 'num_heads': 8,\n",
              " 'num_decoder_layers': 6,\n",
              " 'num_encoder_layers': 6,\n",
              " 'label_smoothing': 0.1,\n",
              " 'beta1': 0.9,\n",
              " 'beta2': 0.98,\n",
              " 'eps': 1e-09,\n",
              " 'warmup_steps': 4000,\n",
              " 'share_embedding': False}"
            ]
          },
          "metadata": {},
          "execution_count": 51
        }
      ],
      "source": [
        "config"
      ],
      "metadata": {
        "ExecuteTime": {
          "end_time": "2024-05-07T08:52:38.372364400Z",
          "start_time": "2024-05-07T08:52:38.191467100Z"
        },
        "colab": {
          "base_uri": "https://localhost:8080/"
        },
        "id": "63slV04gWLn8",
        "outputId": "5c5ede03-0f6f-48d5-a177-d961886ec340"
      }
    },
    {
      "cell_type": "code",
      "execution_count": 52,
      "metadata": {
        "colab": {
          "base_uri": "https://localhost:8080/",
          "height": 49,
          "referenced_widgets": [
            "55146ac7395840dca847e0f63aa80561",
            "abb9bc76c0ce4634bd340be20c074b8c",
            "a89d790df59245fcaf26335d4903c9b4",
            "f837255914194dc792cf1514dee03dc5",
            "46a51a1719d8444eb5877720253d3c37",
            "013d2a6b90144432bbfb15136235faba",
            "2b82e42c34804b13bc83be4c7009d4e2",
            "9233439bdd6746c28ad4a20ef47799f6",
            "0e10428326bc436e8dbc079e89570bde",
            "0fe4ed7283c04496affe727c235d31c4",
            "0c0c7229347b49ffbb9a0f7bd41199b9"
          ]
        },
        "id": "tVO2zJ04N4yY",
        "outputId": "7d4079f5-65d4-4da1-9001-91aa5525250e"
      },
      "outputs": [
        {
          "output_type": "display_data",
          "data": {
            "text/plain": [
              "  0%|          | 0/280 [00:00<?, ?it/s]"
            ],
            "application/vnd.jupyter.widget-view+json": {
              "version_major": 2,
              "version_minor": 0,
              "model_id": "55146ac7395840dca847e0f63aa80561"
            }
          },
          "metadata": {}
        }
      ],
      "source": [
        "epoch = 20\n",
        "\n",
        "# model\n",
        "model = TransformerModel(config)\n",
        "# 1. 定义损失函数 采用交叉熵损失\n",
        "loss_fct = CrossEntropyWithPadding(config)\n",
        "# 2. 定义优化器 采用 adam\n",
        "# Optimizers specified in the torch.optim package\n",
        "optimizer, scheduler = get_optimizer(model, config)\n",
        "\n",
        "# 1. tensorboard 可视化\n",
        "if not os.path.exists(\"runs\"):\n",
        "    os.mkdir(\"runs\")\n",
        "exp_name = \"translate-transformer-{}\".format(\"share\" if config[\"share_embedding\"] else \"not-share\")\n",
        "tensorboard_callback = TensorBoardCallback(f\"runs/{exp_name}\")\n",
        "# tensorboard_callback.draw_model(model, [1, MAX_LENGTH])\n",
        "# 2. save best\n",
        "if not os.path.exists(\"checkpoints\"):\n",
        "    os.makedirs(\"checkpoints\")\n",
        "save_ckpt_callback = SaveCheckpointsCallback(\n",
        "    f\"checkpoints/{exp_name}\", save_step=500, save_best_only=True)\n",
        "# 3. early stop\n",
        "early_stop_callback = EarlyStopCallback(patience=8)\n",
        "\n",
        "model = model.to(device)\n",
        "\n",
        "record = training(\n",
        "    model,\n",
        "    train_dl,\n",
        "    val_dl,\n",
        "    epoch,\n",
        "    loss_fct,\n",
        "    optimizer,\n",
        "    scheduler,\n",
        "    tensorboard_callback=tensorboard_callback,\n",
        "    save_ckpt_callback=save_ckpt_callback,\n",
        "    early_stop_callback=None,\n",
        "    eval_step=500\n",
        "    )\n",
        "\n",
        "# Training took 3.5 days on 8 P100 GPUs\n",
        "# We trained the base models for a total of 100,000 steps or 12 hours. For our big models,(described on the bottom line of table 3), step time was 1.0 seconds. The big models were trained for 300,000 steps (3.5 days)."
      ]
    },
    {
      "cell_type": "markdown",
      "metadata": {
        "id": "rTjbeFlIN4yZ"
      },
      "source": [
        "## 推理\n",
        "\n",
        "- 翻译项目的评估指标一般是BLEU4，感兴趣的同学自行了解并实现\n",
        "- 接下来进行翻译推理，并作出注意力的热度图"
      ]
    },
    {
      "cell_type": "code",
      "execution_count": 53,
      "metadata": {
        "colab": {
          "base_uri": "https://localhost:8080/"
        },
        "id": "WxsjkyQgN4yZ",
        "outputId": "961a4a7d-aa73-4fee-8bb8-d11583ec30c6"
      },
      "outputs": [
        {
          "output_type": "stream",
          "name": "stdout",
          "text": [
            "Collecting fastBPE\n",
            "  Downloading fastBPE-0.1.0.tar.gz (35 kB)\n",
            "  Preparing metadata (setup.py) ... \u001b[?25l\u001b[?25hdone\n",
            "Building wheels for collected packages: fastBPE\n",
            "  Building wheel for fastBPE (setup.py) ... \u001b[?25l\u001b[?25hdone\n",
            "  Created wheel for fastBPE: filename=fastBPE-0.1.0-cp310-cp310-linux_x86_64.whl size=806582 sha256=e8fc28c0b5b48d270f70547c92e958e5ea263343b7769e02a966b66e0b02159f\n",
            "  Stored in directory: /root/.cache/pip/wheels/13/5d/b9/4b8897941ebc9e8c6cc3f3ffd3ea5115731754269205098754\n",
            "Successfully built fastBPE\n",
            "Installing collected packages: fastBPE\n",
            "Successfully installed fastBPE-0.1.0\n"
          ]
        }
      ],
      "source": [
        "# !pip install Cython  # if failed to install fastBPE, try this line\n",
        "!pip install fastBPE #分词使用\n",
        "# 在 Windows 系统上并没有 sys/mman.h 文件"
      ]
    },
    {
      "cell_type": "code",
      "source": [
        "exp_name"
      ],
      "metadata": {
        "colab": {
          "base_uri": "https://localhost:8080/",
          "height": 35
        },
        "id": "f6Ry1PcAn4k1",
        "outputId": "6393524e-e5c3-4f93-dd9d-f249ca52bc05"
      },
      "execution_count": 54,
      "outputs": [
        {
          "output_type": "execute_result",
          "data": {
            "text/plain": [
              "'translate-transformer-not-share'"
            ],
            "application/vnd.google.colaboratory.intrinsic+json": {
              "type": "string"
            }
          },
          "metadata": {},
          "execution_count": 54
        }
      ]
    },
    {
      "cell_type": "code",
      "execution_count": 55,
      "metadata": {
        "id": "jT1Mqiq3N4yZ",
        "ExecuteTime": {
          "end_time": "2024-05-06T12:53:10.207571800Z",
          "start_time": "2024-05-06T12:53:09.743836600Z"
        }
      },
      "outputs": [],
      "source": [
        "import torch\n",
        "\n",
        "state_dict = torch.load(f\"checkpoints/{exp_name}/best.ckpt\", map_location=\"cpu\")\n",
        "\n",
        "# state_dict1 = torch.load(\"epoch125-step132426.ckpt\", map_location=\"cpu\")\n",
        "# state_dict = state_dict1[\"state_dict\"]\n",
        "\n",
        "# update keys by dropping `model`\n",
        "for key in list(state_dict):\n",
        "    state_dict[key.replace(\"model.\", \"\")] = state_dict.pop(key)\n"
      ]
    },
    {
      "cell_type": "code",
      "source": [
        "model = TransformerModel(config)\n",
        "model.load_state_dict(state_dict)\n",
        "\n",
        "\n",
        "# from dataset import LangPairDataset\n",
        "test_ds = LangPairDataset(\"test\", max_length=128, data_dir=\"./wmt16\")\n",
        "test_dl = DataLoader(test_ds, batch_size=1, collate_fn=partial(collate_fct, tokenizer=tokenizer))\n",
        "\n",
        "model = model.to(device)\n",
        "model.eval()"
      ],
      "metadata": {
        "colab": {
          "base_uri": "https://localhost:8080/"
        },
        "id": "5QgodlOJfgKj",
        "outputId": "9cff24d1-5ea4-4aaa-e215-ce3a4c5829e8"
      },
      "execution_count": 64,
      "outputs": [
        {
          "output_type": "stream",
          "name": "stdout",
          "text": [
            "load test dataset from wmt16/.cache/de2en_test_128.npy\n"
          ]
        },
        {
          "output_type": "execute_result",
          "data": {
            "text/plain": [
              "TransformerModel(\n",
              "  (src_embedding): TransformerEmbedding(\n",
              "    (word_embedding): Embedding(9718, 512, padding_idx=0)\n",
              "    (pos_embedding): Embedding(128, 512)\n",
              "    (dropout): Dropout(p=0.1, inplace=False)\n",
              "  )\n",
              "  (trg_embedding): TransformerEmbedding(\n",
              "    (word_embedding): Embedding(9718, 512, padding_idx=0)\n",
              "    (pos_embedding): Embedding(128, 512)\n",
              "    (dropout): Dropout(p=0.1, inplace=False)\n",
              "  )\n",
              "  (linear): Linear(in_features=512, out_features=9718, bias=True)\n",
              "  (encoder): TransformerEncoder(\n",
              "    (layers): ModuleList(\n",
              "      (0-5): 6 x TransformerBlock(\n",
              "        (self_atten): MultiHeadAttention(\n",
              "          (Wq): Linear(in_features=512, out_features=512, bias=False)\n",
              "          (Wk): Linear(in_features=512, out_features=512, bias=False)\n",
              "          (Wv): Linear(in_features=512, out_features=512, bias=False)\n",
              "          (Wo): Linear(in_features=512, out_features=512, bias=False)\n",
              "        )\n",
              "        (self_ln): LayerNorm((512,), eps=1e-06, elementwise_affine=True)\n",
              "        (self_dropout): Dropout(p=0.1, inplace=False)\n",
              "        (ffn): Sequential(\n",
              "          (0): Linear(in_features=512, out_features=2048, bias=True)\n",
              "          (1): ReLU()\n",
              "          (2): Linear(in_features=2048, out_features=512, bias=True)\n",
              "        )\n",
              "        (ffn_ln): LayerNorm((512,), eps=1e-06, elementwise_affine=True)\n",
              "        (ffn_dropout): Dropout(p=0.1, inplace=False)\n",
              "      )\n",
              "    )\n",
              "  )\n",
              "  (decoder): TransformerDecoder(\n",
              "    (layers): ModuleList(\n",
              "      (0-5): 6 x TransformerBlock(\n",
              "        (self_atten): MultiHeadAttention(\n",
              "          (Wq): Linear(in_features=512, out_features=512, bias=False)\n",
              "          (Wk): Linear(in_features=512, out_features=512, bias=False)\n",
              "          (Wv): Linear(in_features=512, out_features=512, bias=False)\n",
              "          (Wo): Linear(in_features=512, out_features=512, bias=False)\n",
              "        )\n",
              "        (self_ln): LayerNorm((512,), eps=1e-06, elementwise_affine=True)\n",
              "        (self_dropout): Dropout(p=0.1, inplace=False)\n",
              "        (cross_atten): MultiHeadAttention(\n",
              "          (Wq): Linear(in_features=512, out_features=512, bias=False)\n",
              "          (Wk): Linear(in_features=512, out_features=512, bias=False)\n",
              "          (Wv): Linear(in_features=512, out_features=512, bias=False)\n",
              "          (Wo): Linear(in_features=512, out_features=512, bias=False)\n",
              "        )\n",
              "        (cross_ln): LayerNorm((512,), eps=1e-06, elementwise_affine=True)\n",
              "        (cross_dropout): Dropout(p=0.1, inplace=False)\n",
              "        (ffn): Sequential(\n",
              "          (0): Linear(in_features=512, out_features=2048, bias=True)\n",
              "          (1): ReLU()\n",
              "          (2): Linear(in_features=2048, out_features=512, bias=True)\n",
              "        )\n",
              "        (ffn_ln): LayerNorm((512,), eps=1e-06, elementwise_affine=True)\n",
              "        (ffn_dropout): Dropout(p=0.1, inplace=False)\n",
              "      )\n",
              "    )\n",
              "  )\n",
              ")"
            ]
          },
          "metadata": {},
          "execution_count": 64
        }
      ]
    },
    {
      "cell_type": "code",
      "execution_count": 56,
      "metadata": {
        "colab": {
          "base_uri": "https://localhost:8080/",
          "height": 84,
          "referenced_widgets": [
            "88440fa601d44ae4a94a3c9d8e1cfd9c",
            "b5800026f1ca49b98a9624ab0dc65a37",
            "0b826da933804cac8fadc2e85868f977",
            "5be35df7b3894840a2fded0acaed2767",
            "f567b0ada241477aa84c42d224903a1f",
            "165efcef9749417ba5318ac977dadf27",
            "372c360c665d41f791b07f5c093e5315",
            "d4ce953b18d64821b5a3bf7eba193823",
            "3f2c50433a894b9ca53a6f561dd5b7f7",
            "95ed81df3042494595c1f936b0951e9e",
            "1662c1f60d224abaaf8c4084f88a0b17"
          ]
        },
        "id": "i_0CPyDZN4ya",
        "outputId": "b801525e-be5b-4ef3-bb68-d85f31176062",
        "ExecuteTime": {
          "end_time": "2024-05-06T12:53:13.024978300Z",
          "start_time": "2024-05-06T12:53:10.213569700Z"
        }
      },
      "outputs": [
        {
          "output_type": "stream",
          "name": "stdout",
          "text": [
            "save cache to wmt16/.cache/de2en_test_128.npy\n"
          ]
        },
        {
          "output_type": "display_data",
          "data": {
            "text/plain": [
              "0it [00:00, ?it/s]"
            ],
            "application/vnd.jupyter.widget-view+json": {
              "version_major": 2,
              "version_minor": 0,
              "model_id": "88440fa601d44ae4a94a3c9d8e1cfd9c"
            }
          },
          "metadata": {}
        },
        {
          "output_type": "stream",
          "name": "stdout",
          "text": [
            "testing loss: 3.258438682605979\n"
          ]
        }
      ],
      "source": [
        "# load checkpoints\n",
        "\n",
        "collect = {}\n",
        "loss_collect = []\n",
        "for idx, batch in tqdm(enumerate(test_dl)):\n",
        "    encoder_inputs = batch[\"encoder_inputs\"].to(device=device)\n",
        "    encoder_inputs_mask = batch[\"encoder_inputs_mask\"].to(device=device)\n",
        "    decoder_inputs = batch[\"decoder_inputs\"].to(device=device)\n",
        "    decoder_labels = batch[\"decoder_labels\"].to(device=device)\n",
        "\n",
        "    # 前向计算\n",
        "    outputs = model(\n",
        "        encoder_inputs=encoder_inputs,\n",
        "        decoder_inputs=decoder_inputs,\n",
        "        encoder_inputs_mask=encoder_inputs_mask\n",
        "        )\n",
        "    loss = loss_fct(outputs.logits, decoder_labels)         # 验证集损失\n",
        "    # outputs = model.infer(encoder_inputs=encoder_inputs)\n",
        "    # print(outputs.logits.shape, decoder_labels.shape)\n",
        "\n",
        "    # loss = loss_fct(outputs.logits[:, :decoder_labels.shape[1]], decoder_labels)         # 验证集损失\n",
        "    # preds = logits.argmax(dim=-1)\n",
        "    collect[idx] = {\"loss\": loss.item(), \"src_inputs\": encoder_inputs, \"trg_inputs\": decoder_inputs, \"mask\": encoder_inputs_mask, \"trg_labels\": decoder_labels, \"preds\": outputs.preds}\n",
        "    loss_collect.append(loss.item())\n",
        "\n",
        "# sort collect by value\n",
        "collect = sorted(collect.items(), key=lambda x: x[1][\"loss\"])\n",
        "print(f\"testing loss: {np.array(loss_collect).mean()}\")"
      ]
    },
    {
      "cell_type": "code",
      "execution_count": 65,
      "metadata": {
        "colab": {
          "base_uri": "https://localhost:8080/",
          "height": 1000,
          "referenced_widgets": [
            "7723b242f3244b70bed8b7427aaf96fb",
            "b98c1efd06874910af87c511de8fd95e",
            "e67882d7b4364ab69d4e2bc9c7d3818d",
            "a2d68aa5a06e461d9b844b0dd6743d18",
            "1cce71fbc9d04da7a0748bc28b6dcf43",
            "ff220e4e517443d1afe73c60bac515b4",
            "b6b7b2aadb014e5a967b67d9d6ab8557",
            "bacae8394be046d0b1547f33b25dae0e",
            "b1ca01d7b92343fca0b43d9a535f9042",
            "845f7523fae84dcbb1d9f546be7dd84f",
            "f5744be4c9b448e2bafca6173861c8b7"
          ]
        },
        "id": "KGSym4CbN4ya",
        "outputId": "fdac83cb-4c6f-4df1-dca4-da76e9d663b9",
        "ExecuteTime": {
          "end_time": "2024-05-06T13:16:14.099749Z",
          "start_time": "2024-05-06T13:16:13.991811900Z"
        }
      },
      "outputs": [
        {
          "output_type": "display_data",
          "data": {
            "text/plain": [
              "  0%|          | 0/128 [00:00<?, ?it/s]"
            ],
            "application/vnd.jupyter.widget-view+json": {
              "version_major": 2,
              "version_minor": 0,
              "model_id": "7723b242f3244b70bed8b7427aaf96fb"
            }
          },
          "metadata": {}
        },
        {
          "output_type": "stream",
          "name": "stderr",
          "text": [
            "/usr/local/lib/python3.10/dist-packages/IPython/core/pylabtools.py:151: UserWarning: There are no gridspecs with layoutgrids. Possibly did not call parent GridSpec with the \"figure\" keyword\n",
            "  fig.canvas.print_figure(bytes_io, **kw)\n"
          ]
        },
        {
          "output_type": "display_data",
          "data": {
            "text/plain": [
              "<Figure size 1000x500 with 2 Axes>"
            ],
            "image/png": "[encoded data removed]"
          },
          "metadata": {}
        },
        {
          "output_type": "display_data",
          "data": {
            "text/plain": [
              "<Figure size 1000x500 with 2 Axes>"
            ],
            "image/png": "[encoded data removed]"
          },
          "metadata": {}
        },
        {
          "output_type": "display_data",
          "data": {
            "text/plain": [
              "<Figure size 1000x500 with 2 Axes>"
            ],
            "image/png": "[encoded data removed]"
          },
          "metadata": {}
        },
        {
          "output_type": "display_data",
          "data": {
            "text/plain": [
              "<Figure size 1000x500 with 2 Axes>"
            ],
            "image/png": "[encoded data removed]"
          },
          "metadata": {}
        },
        {
          "output_type": "execute_result",
          "data": {
            "text/plain": [
              "['man in white shirt on a small boat at a small boat.',\n",
              " 'a man with a hat and a girl are taking a picture on a beach.',\n",
              " 'three men on horses are being pulled by a race as the crowd watches.',\n",
              " 'a man and woman are preparing their meal together to sell the same time.']"
            ]
          },
          "metadata": {},
          "execution_count": 65
        }
      ],
      "source": [
        "import re\n",
        "from fastBPE import fastBPE\n",
        "from sacremoses import MosesDetokenizer, MosesTokenizer\n",
        "\n",
        "# `MosesTokenizer` 和 `MosesDetokenizer` 是来自 `sacremoses` 库的工具，用于自然语言处理中的分词（Tokenization）和去标记化（Detokenization）。这些工具主要用于对文本进行预处理和后处理，通常在处理自然语言处理任务时会用到。\n",
        "#\n",
        "# ### MosesTokenizer：\n",
        "# - **作用**：将原始文本分割成单词和标点符号。\n",
        "# - **特点**：基于 Moses 翻译工具中使用的分词方法。\n",
        "# - **功能**：\n",
        "#   - 将句子分割成单词和标点符号。\n",
        "#   - 处理缩写、连字符、标点等特殊情况。\n",
        "#   - 对文本进行标记化，方便后续处理。\n",
        "#\n",
        "# ### MosesDetokenizer：\n",
        "# - **作用**：将分词后的文本重新组合成原始的句子。\n",
        "# - **特点**：用于对分词后的文本进行还原，使其恢复为可读的句子形式。\n",
        "# - **功能**：\n",
        "#   - 将分词后的单词和标点符号重新组合成句子。\n",
        "#   - 处理分词后的标点、缩写等情况，使得结果更加自然和可读。\n",
        "#\n",
        "# 这些工具通常在文本预处理和后处理过程中使用，对输入的文本进行标记化和去标记化，是一种常用的处理方式。在自然语言处理任务中，对文本进行正确的分词和还原是很重要的，而 `MosesTokenizer` 和 `MosesDetokenizer` 提供了方便、高效的工具来处理这些任务。\n",
        "\n",
        "class Translator:\n",
        "    def __init__(self, model, src_tokenizer, trg_tokenizer):\n",
        "        self.bpe = fastBPE(\"./wmt16/bpe.10000\", \"./wmt16/vocab\")\n",
        "        self.mose_tokenizer = MosesTokenizer(lang=\"de\")\n",
        "        self.mose_detokenizer = MosesDetokenizer(lang=\"en\")\n",
        "        self.model = model\n",
        "        self.model.eval()\n",
        "        self.src_tokenizer = src_tokenizer\n",
        "        self.trg_tokenizer = trg_tokenizer\n",
        "        self.pattern = re.compile(r'(@@ )|(@@ ?$)')\n",
        "\n",
        "    def draw_attention_map(self, attn_scores, cross_attn_scores, src_words_list, trg_words_list):\n",
        "        \"\"\"绘制注意力热力图\n",
        "        attn_scores (numpy.ndarray): 表示自注意力机制（self-attention）分数。\n",
        "        cross_attn_scores (numpy.ndarray): 表示交叉注意力机制的注意力分数。\n",
        "        src_words_list (list): 源语言句子的单词列表。\n",
        "        trg_words_list (list): 目标语言句子的单词列表。\n",
        "        \"\"\"\n",
        "        assert len(attn_scores.shape) == 3, \"attn_scores shape should be \" \\\n",
        "            f\"[num heads, target sequence length, target sequence length], but got {attn_scores.shape}\"\n",
        "        attn_scores = attn_scores[:, :len(trg_words_list), :len(trg_words_list)]\n",
        "\n",
        "        assert len(cross_attn_scores.shape) == 3, \"attn_scores shape should be \" \\\n",
        "            f\"[num heads, target sequence length, source sequence length], but got {cross_attn_scores.shape}\"\n",
        "        cross_attn_scores = cross_attn_scores[:, :len(trg_words_list), :len(src_words_list)]\n",
        "\n",
        "        num_heads, trg_len, src_len = cross_attn_scores.shape\n",
        "\n",
        "        fig = plt.figure(figsize=(10, 5), constrained_layout=True) # constrained_layout=True 自动调整子图参数，使之填充整个图像区域\n",
        "        grid = plt.GridSpec(trg_len, trg_len + src_len, wspace=0.1, hspace=0.1)# wspace,hspace 控制子图之间的间距\n",
        "        #下面是attn_scores的热力图\n",
        "        self_map = fig.add_subplot(grid[:,:trg_len]) #  添加子图\n",
        "        self_map.matshow(attn_scores.mean(dim=0), cmap='viridis') # 绘制热力图，cmap表示颜色,dim=0表示对第0维求均值\n",
        "        self_map.set_yticks(range(trg_len), trg_words_list, fontsize=10)\n",
        "        self_map.set_xticks(range(trg_len), [\"[BOS]\"] + trg_words_list[:-1], rotation=90)\n",
        "        #下面是cross_attn_scores的热力图\n",
        "        cross_map = fig.add_subplot(grid[:, trg_len:])\n",
        "        cross_map.matshow(cross_attn_scores.mean(dim=0), cmap='viridis')\n",
        "        cross_map.set_yticks(range(trg_len), [], fontsize=6)\n",
        "        cross_map.set_xticks(range(src_len), src_words_list, rotation=90)\n",
        "\n",
        "        plt.show()\n",
        "\n",
        "    def draw_attention_maps(self, attn_scores, cross_attn_scores, src_words_list, trg_words_list, heads_list):\n",
        "        \"\"\"绘制注意力热力图\n",
        "\n",
        "        Args:\n",
        "            - scores (numpy.ndarray): shape = [source sequence length, target sequence length]\n",
        "        \"\"\"\n",
        "        assert len(attn_scores.shape) == 3, \"attn_scores shape should be \" \\\n",
        "            f\"[num heads, target sequence length, target sequence length], but got {attn_scores.shape}\"\n",
        "        attn_scores = attn_scores[:, :len(trg_words_list), :len(trg_words_list)]\n",
        "\n",
        "        assert len(cross_attn_scores.shape) == 3, \"attn_scores shape should be \" \\\n",
        "            f\"[num heads, target sequence length, source sequence length], but got {cross_attn_scores.shape}\"\n",
        "        cross_attn_scores = cross_attn_scores[:, :len(trg_words_list), :len(src_words_list)]\n",
        "        # cross_attn_scores = cross_attn_scores[:, :len(src_words_list), :len(src_words_list)]\n",
        "\n",
        "        num_heads, trg_len, src_len = cross_attn_scores.shape\n",
        "        fig, axes = plt.subplots(2, len(heads_list), figsize=(5 * len(heads_list), 10))\n",
        "        for i, heads_idx in enumerate(heads_list):\n",
        "            axes[0, i].matshow(attn_scores[heads_idx], cmap='viridis')\n",
        "            axes[0, i].set_yticks(range(trg_len), trg_words_list)\n",
        "            axes[0, i].set_xticks(range(trg_len), [\"[BOS]\"] + trg_words_list[:-1], rotation=90)\n",
        "            axes[0, i].set_title(f\"head {heads_idx}\")\n",
        "            axes[1, i].matshow(cross_attn_scores[heads_idx], cmap='viridis')\n",
        "            axes[1, i].set_yticks(range(trg_len), trg_words_list)\n",
        "            axes[1, i].set_xticks(range(src_len), src_words_list, rotation=90)\n",
        "            axes[1, i].set_title(f\"head {heads_idx}\")\n",
        "\n",
        "        plt.show()\n",
        "\n",
        "\n",
        "    def __call__(self, sentence_list, heads_list=None, layer_idx=-1):\n",
        "        # 将输入句子列表转换为小写，并使用 MosesTokenizer 进行分词处理。\n",
        "        sentence_list = [\" \".join(self.mose_tokenizer.tokenize(s.lower())) for s in sentence_list]\n",
        "        # 将分词后的结果进行 BPE 编码，得到 tokens_list。\n",
        "        tokens_list = [s.split() for s in self.bpe.apply(sentence_list)]\n",
        "        # 使用 src_tokenizer 对 tokens_list 进行编码，同时添加起始标记 ([BOS]) 和结束标记 ([EOS])。\n",
        "        encoder_input, attn_mask = self.src_tokenizer.encode(\n",
        "            tokens_list,\n",
        "            add_bos=True,\n",
        "            add_eos=True,\n",
        "            return_mask=True,\n",
        "            )\n",
        "        encoder_input = torch.Tensor(encoder_input).to(dtype=torch.int64)\n",
        "        # 使用模型的 infer 方法对编码器输入进行推理，得到输出结果 outputs\n",
        "        outputs = model.infer(encoder_inputs=encoder_input, encoder_inputs_mask=attn_mask)\n",
        "\n",
        "        preds = outputs.preds.numpy()\n",
        "        # 使用目标语言的 trg_tokenizer 对预测序列进行解码，得到解码后的目标语言句子列表 trg_decoded。\n",
        "        trg_decoded = self.trg_tokenizer.decode(preds, split=True, remove_eos=False, remove_bos=False, remove_pad=False)\n",
        "        # 使用源语言的 src_tokenizer 对编码器输入进行解码，得到解码后的源语言句子列表 src_decoded。为下面绘制热力图做准备。\n",
        "        src_decoded = self.src_tokenizer.decode(\n",
        "            encoder_input.numpy(),\n",
        "            split=True,\n",
        "            remove_bos=False,\n",
        "            remove_eos=False\n",
        "            )\n",
        "\n",
        "        # post processed attn scores\n",
        "        # outputs.decoder_attentions[-1]  # the last layer of self-attention scores\n",
        "\n",
        "        # draw the attention map of the last decoder block\n",
        "        for attn_score, cross_attn_score, src, trg in zip(\n",
        "            outputs.decoder_self_attn_scores[layer_idx], outputs.decoder_cross_attn_scores[layer_idx], src_decoded, trg_decoded):\n",
        "            if heads_list is None:# 如果没有指定heads_list，就画单个热力图\n",
        "                self.draw_attention_map(\n",
        "                    attn_score,\n",
        "                    cross_attn_score,\n",
        "                    src,\n",
        "                    trg,\n",
        "                )\n",
        "            else:# 如果指定了heads_list，就画多个热力图\n",
        "                self.draw_attention_maps(\n",
        "                    attn_score,\n",
        "                    cross_attn_score,\n",
        "                    src,\n",
        "                    trg,\n",
        "                    heads_list=heads_list,\n",
        "                    )\n",
        "        return [self.mose_detokenizer.tokenize(self.pattern.sub(\"\", s).split()) for s in self.trg_tokenizer.decode(preds)] #将解码后的目标语言句子列表返回，并使用 mose_detokenizer 进行去标记化，最终得到翻译后的结果。\n",
        "\n",
        "\n",
        "sentence_list = [\n",
        "    \"Mann in einem kleinen weißen Boot auf einem See.\",  # Man in a small white boat on a lake.\n",
        "    \"Ein Mann mit einem Eimer und ein Mädchen mit einem Hut am Strand.\", # A man with a bucket and a girl in a hat on the beach.\n",
        "    \"Drei Männer auf Pferden während eines Rennens.\",  # Three men on horses during a race.\n",
        "    \"Ein Mann und eine Frau essen zu Abend\",  # 一个男人和一个女人在吃晚餐\n",
        "]\n",
        "\n",
        "\n",
        "# load checkpoints\n",
        "model = TransformerModel(config)\n",
        "model.load_state_dict(state_dict)\n",
        "translator = Translator(model.cpu(), tokenizer, tokenizer)\n",
        "translator(\n",
        "    sentence_list,\n",
        "    layer_idx=-1,\n",
        "    # heads_list=[0, 1, 2, 3, 4, 5, 6, 7]\n",
        "    )\n"
      ]
    },
    {
      "cell_type": "code",
      "source": [
        "!ls checkpoints"
      ],
      "metadata": {
        "colab": {
          "base_uri": "https://localhost:8080/"
        },
        "id": "e0WkUQuUe-Cy",
        "outputId": "433e3d70-4f34-4376-e4a3-1b8834e71f88"
      },
      "execution_count": 61,
      "outputs": [
        {
          "output_type": "stream",
          "name": "stdout",
          "text": [
            "translate-transformer-not-share\n"
          ]
        }
      ]
    },
    {
      "cell_type": "code",
      "source": [
        "# prompt: 把best.ckpt复制到云盘内\n",
        "\n",
        "!cp -r checkpoints/translate-transformer-not-share/best.ckpt /content/drive/MyDrive/transformer-de-en\n"
      ],
      "metadata": {
        "id": "_1ZLtdahywWf"
      },
      "execution_count": 62,
      "outputs": []
    }
  ],
  "metadata": {
    "kernelspec": {
      "name": "python3",
      "display_name": "Python 3"
    },
    "language_info": {
      "codemirror_mode": {
        "name": "ipython",
        "version": 3
      },
      "file_extension": ".py",
      "mimetype": "text/x-python",
      "name": "python",
      "nbconvert_exporter": "python",
      "pygments_lexer": "ipython3",
      "version": "3.10.8"
    },
    "orig_nbformat": 4,
    "colab": {
      "provenance": [],
      "gpuType": "L4"
    },
    "accelerator": "GPU",
    "widgets": {
      "application/vnd.jupyter.widget-state+json": {
        "8393b7bd6fdb43b280ab2a6dbb9bfe15": {
          "model_module": "@jupyter-widgets/controls",
          "model_name": "HBoxModel",
          "model_module_version": "1.5.0",
          "state": {
            "_dom_classes": [],
            "_model_module": "@jupyter-widgets/controls",
            "_model_module_version": "1.5.0",
            "_model_name": "HBoxModel",
            "_view_count": null,
            "_view_module": "@jupyter-widgets/controls",
            "_view_module_version": "1.5.0",
            "_view_name": "HBoxView",
            "box_style": "",
            "children": [
              "IPY_MODEL_a92f862870434b57a0e92dad1e971fc6",
              "IPY_MODEL_62405a2d637a4693b29404db420c4de9",
              "IPY_MODEL_24adcee272bc4cf4a2f4e23d509bb26b"
            ],
            "layout": "IPY_MODEL_e040666cd214488db6d806b15c4c3f23"
          }
        },
        "a92f862870434b57a0e92dad1e971fc6": {
          "model_module": "@jupyter-widgets/controls",
          "model_name": "HTMLModel",
          "model_module_version": "1.5.0",
          "state": {
            "_dom_classes": [],
            "_model_module": "@jupyter-widgets/controls",
            "_model_module_version": "1.5.0",
            "_model_name": "HTMLModel",
            "_view_count": null,
            "_view_module": "@jupyter-widgets/controls",
            "_view_module_version": "1.5.0",
            "_view_name": "HTMLView",
            "description": "",
            "description_tooltip": null,
            "layout": "IPY_MODEL_df5aa6262cd54e12af87650209090887",
            "placeholder": "​",
            "style": "IPY_MODEL_42a86c9c02294043a38ce42f11b8af8c",
            "value": "100%"
          }
        },
        "62405a2d637a4693b29404db420c4de9": {
          "model_module": "@jupyter-widgets/controls",
          "model_name": "FloatProgressModel",
          "model_module_version": "1.5.0",
          "state": {
            "_dom_classes": [],
            "_model_module": "@jupyter-widgets/controls",
            "_model_module_version": "1.5.0",
            "_model_name": "FloatProgressModel",
            "_view_count": null,
            "_view_module": "@jupyter-widgets/controls",
            "_view_module_version": "1.5.0",
            "_view_name": "ProgressView",
            "bar_style": "success",
            "description": "",
            "description_tooltip": null,
            "layout": "IPY_MODEL_2dfadc6716d74e3f9ddb6ab1d9c2c33f",
            "max": 9714,
            "min": 0,
            "orientation": "horizontal",
            "style": "IPY_MODEL_bebcf53d620f4821b4c0637831526919",
            "value": 9714
          }
        },
        "24adcee272bc4cf4a2f4e23d509bb26b": {
          "model_module": "@jupyter-widgets/controls",
          "model_name": "HTMLModel",
          "model_module_version": "1.5.0",
          "state": {
            "_dom_classes": [],
            "_model_module": "@jupyter-widgets/controls",
            "_model_module_version": "1.5.0",
            "_model_name": "HTMLModel",
            "_view_count": null,
            "_view_module": "@jupyter-widgets/controls",
            "_view_module_version": "1.5.0",
            "_view_name": "HTMLView",
            "description": "",
            "description_tooltip": null,
            "layout": "IPY_MODEL_72f0940cb4c6443db8f3ae233fedfdcf",
            "placeholder": "​",
            "style": "IPY_MODEL_81dd4d322b3949dba3e5be0eba02dad0",
            "value": " 9714/9714 [00:00&lt;00:00, 415804.84it/s]"
          }
        },
        "e040666cd214488db6d806b15c4c3f23": {
          "model_module": "@jupyter-widgets/base",
          "model_name": "LayoutModel",
          "model_module_version": "1.2.0",
          "state": {
            "_model_module": "@jupyter-widgets/base",
            "_model_module_version": "1.2.0",
            "_model_name": "LayoutModel",
            "_view_count": null,
            "_view_module": "@jupyter-widgets/base",
            "_view_module_version": "1.2.0",
            "_view_name": "LayoutView",
            "align_content": null,
            "align_items": null,
            "align_self": null,
            "border": null,
            "bottom": null,
            "display": null,
            "flex": null,
            "flex_flow": null,
            "grid_area": null,
            "grid_auto_columns": null,
            "grid_auto_flow": null,
            "grid_auto_rows": null,
            "grid_column": null,
            "grid_gap": null,
            "grid_row": null,
            "grid_template_areas": null,
            "grid_template_columns": null,
            "grid_template_rows": null,
            "height": null,
            "justify_content": null,
            "justify_items": null,
            "left": null,
            "margin": null,
            "max_height": null,
            "max_width": null,
            "min_height": null,
            "min_width": null,
            "object_fit": null,
            "object_position": null,
            "order": null,
            "overflow": null,
            "overflow_x": null,
            "overflow_y": null,
            "padding": null,
            "right": null,
            "top": null,
            "visibility": null,
            "width": null
          }
        },
        "df5aa6262cd54e12af87650209090887": {
          "model_module": "@jupyter-widgets/base",
          "model_name": "LayoutModel",
          "model_module_version": "1.2.0",
          "state": {
            "_model_module": "@jupyter-widgets/base",
            "_model_module_version": "1.2.0",
            "_model_name": "LayoutModel",
            "_view_count": null,
            "_view_module": "@jupyter-widgets/base",
            "_view_module_version": "1.2.0",
            "_view_name": "LayoutView",
            "align_content": null,
            "align_items": null,
            "align_self": null,
            "border": null,
            "bottom": null,
            "display": null,
            "flex": null,
            "flex_flow": null,
            "grid_area": null,
            "grid_auto_columns": null,
            "grid_auto_flow": null,
            "grid_auto_rows": null,
            "grid_column": null,
            "grid_gap": null,
            "grid_row": null,
            "grid_template_areas": null,
            "grid_template_columns": null,
            "grid_template_rows": null,
            "height": null,
            "justify_content": null,
            "justify_items": null,
            "left": null,
            "margin": null,
            "max_height": null,
            "max_width": null,
            "min_height": null,
            "min_width": null,
            "object_fit": null,
            "object_position": null,
            "order": null,
            "overflow": null,
            "overflow_x": null,
            "overflow_y": null,
            "padding": null,
            "right": null,
            "top": null,
            "visibility": null,
            "width": null
          }
        },
        "42a86c9c02294043a38ce42f11b8af8c": {
          "model_module": "@jupyter-widgets/controls",
          "model_name": "DescriptionStyleModel",
          "model_module_version": "1.5.0",
          "state": {
            "_model_module": "@jupyter-widgets/controls",
            "_model_module_version": "1.5.0",
            "_model_name": "DescriptionStyleModel",
            "_view_count": null,
            "_view_module": "@jupyter-widgets/base",
            "_view_module_version": "1.2.0",
            "_view_name": "StyleView",
            "description_width": ""
          }
        },
        "2dfadc6716d74e3f9ddb6ab1d9c2c33f": {
          "model_module": "@jupyter-widgets/base",
          "model_name": "LayoutModel",
          "model_module_version": "1.2.0",
          "state": {
            "_model_module": "@jupyter-widgets/base",
            "_model_module_version": "1.2.0",
            "_model_name": "LayoutModel",
            "_view_count": null,
            "_view_module": "@jupyter-widgets/base",
            "_view_module_version": "1.2.0",
            "_view_name": "LayoutView",
            "align_content": null,
            "align_items": null,
            "align_self": null,
            "border": null,
            "bottom": null,
            "display": null,
            "flex": null,
            "flex_flow": null,
            "grid_area": null,
            "grid_auto_columns": null,
            "grid_auto_flow": null,
            "grid_auto_rows": null,
            "grid_column": null,
            "grid_gap": null,
            "grid_row": null,
            "grid_template_areas": null,
            "grid_template_columns": null,
            "grid_template_rows": null,
            "height": null,
            "justify_content": null,
            "justify_items": null,
            "left": null,
            "margin": null,
            "max_height": null,
            "max_width": null,
            "min_height": null,
            "min_width": null,
            "object_fit": null,
            "object_position": null,
            "order": null,
            "overflow": null,
            "overflow_x": null,
            "overflow_y": null,
            "padding": null,
            "right": null,
            "top": null,
            "visibility": null,
            "width": null
          }
        },
        "bebcf53d620f4821b4c0637831526919": {
          "model_module": "@jupyter-widgets/controls",
          "model_name": "ProgressStyleModel",
          "model_module_version": "1.5.0",
          "state": {
            "_model_module": "@jupyter-widgets/controls",
            "_model_module_version": "1.5.0",
            "_model_name": "ProgressStyleModel",
            "_view_count": null,
            "_view_module": "@jupyter-widgets/base",
            "_view_module_version": "1.2.0",
            "_view_name": "StyleView",
            "bar_color": null,
            "description_width": ""
          }
        },
        "72f0940cb4c6443db8f3ae233fedfdcf": {
          "model_module": "@jupyter-widgets/base",
          "model_name": "LayoutModel",
          "model_module_version": "1.2.0",
          "state": {
            "_model_module": "@jupyter-widgets/base",
            "_model_module_version": "1.2.0",
            "_model_name": "LayoutModel",
            "_view_count": null,
            "_view_module": "@jupyter-widgets/base",
            "_view_module_version": "1.2.0",
            "_view_name": "LayoutView",
            "align_content": null,
            "align_items": null,
            "align_self": null,
            "border": null,
            "bottom": null,
            "display": null,
            "flex": null,
            "flex_flow": null,
            "grid_area": null,
            "grid_auto_columns": null,
            "grid_auto_flow": null,
            "grid_auto_rows": null,
            "grid_column": null,
            "grid_gap": null,
            "grid_row": null,
            "grid_template_areas": null,
            "grid_template_columns": null,
            "grid_template_rows": null,
            "height": null,
            "justify_content": null,
            "justify_items": null,
            "left": null,
            "margin": null,
            "max_height": null,
            "max_width": null,
            "min_height": null,
            "min_width": null,
            "object_fit": null,
            "object_position": null,
            "order": null,
            "overflow": null,
            "overflow_x": null,
            "overflow_y": null,
            "padding": null,
            "right": null,
            "top": null,
            "visibility": null,
            "width": null
          }
        },
        "81dd4d322b3949dba3e5be0eba02dad0": {
          "model_module": "@jupyter-widgets/controls",
          "model_name": "DescriptionStyleModel",
          "model_module_version": "1.5.0",
          "state": {
            "_model_module": "@jupyter-widgets/controls",
            "_model_module_version": "1.5.0",
            "_model_name": "DescriptionStyleModel",
            "_view_count": null,
            "_view_module": "@jupyter-widgets/base",
            "_view_module_version": "1.2.0",
            "_view_name": "StyleView",
            "description_width": ""
          }
        },
        "55146ac7395840dca847e0f63aa80561": {
          "model_module": "@jupyter-widgets/controls",
          "model_name": "HBoxModel",
          "model_module_version": "1.5.0",
          "state": {
            "_dom_classes": [],
            "_model_module": "@jupyter-widgets/controls",
            "_model_module_version": "1.5.0",
            "_model_name": "HBoxModel",
            "_view_count": null,
            "_view_module": "@jupyter-widgets/controls",
            "_view_module_version": "1.5.0",
            "_view_name": "HBoxView",
            "box_style": "",
            "children": [
              "IPY_MODEL_abb9bc76c0ce4634bd340be20c074b8c",
              "IPY_MODEL_a89d790df59245fcaf26335d4903c9b4",
              "IPY_MODEL_f837255914194dc792cf1514dee03dc5"
            ],
            "layout": "IPY_MODEL_46a51a1719d8444eb5877720253d3c37"
          }
        },
        "abb9bc76c0ce4634bd340be20c074b8c": {
          "model_module": "@jupyter-widgets/controls",
          "model_name": "HTMLModel",
          "model_module_version": "1.5.0",
          "state": {
            "_dom_classes": [],
            "_model_module": "@jupyter-widgets/controls",
            "_model_module_version": "1.5.0",
            "_model_name": "HTMLModel",
            "_view_count": null,
            "_view_module": "@jupyter-widgets/controls",
            "_view_module_version": "1.5.0",
            "_view_name": "HTMLView",
            "description": "",
            "description_tooltip": null,
            "layout": "IPY_MODEL_013d2a6b90144432bbfb15136235faba",
            "placeholder": "​",
            "style": "IPY_MODEL_2b82e42c34804b13bc83be4c7009d4e2",
            "value": ""
          }
        },
        "a89d790df59245fcaf26335d4903c9b4": {
          "model_module": "@jupyter-widgets/controls",
          "model_name": "FloatProgressModel",
          "model_module_version": "1.5.0",
          "state": {
            "_dom_classes": [],
            "_model_module": "@jupyter-widgets/controls",
            "_model_module_version": "1.5.0",
            "_model_name": "FloatProgressModel",
            "_view_count": null,
            "_view_module": "@jupyter-widgets/controls",
            "_view_module_version": "1.5.0",
            "_view_name": "ProgressView",
            "bar_style": "success",
            "description": "",
            "description_tooltip": null,
            "layout": "IPY_MODEL_9233439bdd6746c28ad4a20ef47799f6",
            "max": 280,
            "min": 0,
            "orientation": "horizontal",
            "style": "IPY_MODEL_0e10428326bc436e8dbc079e89570bde",
            "value": 280
          }
        },
        "f837255914194dc792cf1514dee03dc5": {
          "model_module": "@jupyter-widgets/controls",
          "model_name": "HTMLModel",
          "model_module_version": "1.5.0",
          "state": {
            "_dom_classes": [],
            "_model_module": "@jupyter-widgets/controls",
            "_model_module_version": "1.5.0",
            "_model_name": "HTMLModel",
            "_view_count": null,
            "_view_module": "@jupyter-widgets/controls",
            "_view_module_version": "1.5.0",
            "_view_name": "HTMLView",
            "description": "",
            "description_tooltip": null,
            "layout": "IPY_MODEL_0fe4ed7283c04496affe727c235d31c4",
            "placeholder": "​",
            "style": "IPY_MODEL_0c0c7229347b49ffbb9a0f7bd41199b9",
            "value": " 21020/? [21:30&lt;00:00, 15.32it/s, epoch=19, loss=2.61, val_loss=3.41]"
          }
        },
        "46a51a1719d8444eb5877720253d3c37": {
          "model_module": "@jupyter-widgets/base",
          "model_name": "LayoutModel",
          "model_module_version": "1.2.0",
          "state": {
            "_model_module": "@jupyter-widgets/base",
            "_model_module_version": "1.2.0",
            "_model_name": "LayoutModel",
            "_view_count": null,
            "_view_module": "@jupyter-widgets/base",
            "_view_module_version": "1.2.0",
            "_view_name": "LayoutView",
            "align_content": null,
            "align_items": null,
            "align_self": null,
            "border": null,
            "bottom": null,
            "display": null,
            "flex": null,
            "flex_flow": null,
            "grid_area": null,
            "grid_auto_columns": null,
            "grid_auto_flow": null,
            "grid_auto_rows": null,
            "grid_column": null,
            "grid_gap": null,
            "grid_row": null,
            "grid_template_areas": null,
            "grid_template_columns": null,
            "grid_template_rows": null,
            "height": null,
            "justify_content": null,
            "justify_items": null,
            "left": null,
            "margin": null,
            "max_height": null,
            "max_width": null,
            "min_height": null,
            "min_width": null,
            "object_fit": null,
            "object_position": null,
            "order": null,
            "overflow": null,
            "overflow_x": null,
            "overflow_y": null,
            "padding": null,
            "right": null,
            "top": null,
            "visibility": null,
            "width": null
          }
        },
        "013d2a6b90144432bbfb15136235faba": {
          "model_module": "@jupyter-widgets/base",
          "model_name": "LayoutModel",
          "model_module_version": "1.2.0",
          "state": {
            "_model_module": "@jupyter-widgets/base",
            "_model_module_version": "1.2.0",
            "_model_name": "LayoutModel",
            "_view_count": null,
            "_view_module": "@jupyter-widgets/base",
            "_view_module_version": "1.2.0",
            "_view_name": "LayoutView",
            "align_content": null,
            "align_items": null,
            "align_self": null,
            "border": null,
            "bottom": null,
            "display": null,
            "flex": null,
            "flex_flow": null,
            "grid_area": null,
            "grid_auto_columns": null,
            "grid_auto_flow": null,
            "grid_auto_rows": null,
            "grid_column": null,
            "grid_gap": null,
            "grid_row": null,
            "grid_template_areas": null,
            "grid_template_columns": null,
            "grid_template_rows": null,
            "height": null,
            "justify_content": null,
            "justify_items": null,
            "left": null,
            "margin": null,
            "max_height": null,
            "max_width": null,
            "min_height": null,
            "min_width": null,
            "object_fit": null,
            "object_position": null,
            "order": null,
            "overflow": null,
            "overflow_x": null,
            "overflow_y": null,
            "padding": null,
            "right": null,
            "top": null,
            "visibility": null,
            "width": null
          }
        },
        "2b82e42c34804b13bc83be4c7009d4e2": {
          "model_module": "@jupyter-widgets/controls",
          "model_name": "DescriptionStyleModel",
          "model_module_version": "1.5.0",
          "state": {
            "_model_module": "@jupyter-widgets/controls",
            "_model_module_version": "1.5.0",
            "_model_name": "DescriptionStyleModel",
            "_view_count": null,
            "_view_module": "@jupyter-widgets/base",
            "_view_module_version": "1.2.0",
            "_view_name": "StyleView",
            "description_width": ""
          }
        },
        "9233439bdd6746c28ad4a20ef47799f6": {
          "model_module": "@jupyter-widgets/base",
          "model_name": "LayoutModel",
          "model_module_version": "1.2.0",
          "state": {
            "_model_module": "@jupyter-widgets/base",
            "_model_module_version": "1.2.0",
            "_model_name": "LayoutModel",
            "_view_count": null,
            "_view_module": "@jupyter-widgets/base",
            "_view_module_version": "1.2.0",
            "_view_name": "LayoutView",
            "align_content": null,
            "align_items": null,
            "align_self": null,
            "border": null,
            "bottom": null,
            "display": null,
            "flex": null,
            "flex_flow": null,
            "grid_area": null,
            "grid_auto_columns": null,
            "grid_auto_flow": null,
            "grid_auto_rows": null,
            "grid_column": null,
            "grid_gap": null,
            "grid_row": null,
            "grid_template_areas": null,
            "grid_template_columns": null,
            "grid_template_rows": null,
            "height": null,
            "justify_content": null,
            "justify_items": null,
            "left": null,
            "margin": null,
            "max_height": null,
            "max_width": null,
            "min_height": null,
            "min_width": null,
            "object_fit": null,
            "object_position": null,
            "order": null,
            "overflow": null,
            "overflow_x": null,
            "overflow_y": null,
            "padding": null,
            "right": null,
            "top": null,
            "visibility": null,
            "width": null
          }
        },
        "0e10428326bc436e8dbc079e89570bde": {
          "model_module": "@jupyter-widgets/controls",
          "model_name": "ProgressStyleModel",
          "model_module_version": "1.5.0",
          "state": {
            "_model_module": "@jupyter-widgets/controls",
            "_model_module_version": "1.5.0",
            "_model_name": "ProgressStyleModel",
            "_view_count": null,
            "_view_module": "@jupyter-widgets/base",
            "_view_module_version": "1.2.0",
            "_view_name": "StyleView",
            "bar_color": null,
            "description_width": ""
          }
        },
        "0fe4ed7283c04496affe727c235d31c4": {
          "model_module": "@jupyter-widgets/base",
          "model_name": "LayoutModel",
          "model_module_version": "1.2.0",
          "state": {
            "_model_module": "@jupyter-widgets/base",
            "_model_module_version": "1.2.0",
            "_model_name": "LayoutModel",
            "_view_count": null,
            "_view_module": "@jupyter-widgets/base",
            "_view_module_version": "1.2.0",
            "_view_name": "LayoutView",
            "align_content": null,
            "align_items": null,
            "align_self": null,
            "border": null,
            "bottom": null,
            "display": null,
            "flex": null,
            "flex_flow": null,
            "grid_area": null,
            "grid_auto_columns": null,
            "grid_auto_flow": null,
            "grid_auto_rows": null,
            "grid_column": null,
            "grid_gap": null,
            "grid_row": null,
            "grid_template_areas": null,
            "grid_template_columns": null,
            "grid_template_rows": null,
            "height": null,
            "justify_content": null,
            "justify_items": null,
            "left": null,
            "margin": null,
            "max_height": null,
            "max_width": null,
            "min_height": null,
            "min_width": null,
            "object_fit": null,
            "object_position": null,
            "order": null,
            "overflow": null,
            "overflow_x": null,
            "overflow_y": null,
            "padding": null,
            "right": null,
            "top": null,
            "visibility": null,
            "width": null
          }
        },
        "0c0c7229347b49ffbb9a0f7bd41199b9": {
          "model_module": "@jupyter-widgets/controls",
          "model_name": "DescriptionStyleModel",
          "model_module_version": "1.5.0",
          "state": {
            "_model_module": "@jupyter-widgets/controls",
            "_model_module_version": "1.5.0",
            "_model_name": "DescriptionStyleModel",
            "_view_count": null,
            "_view_module": "@jupyter-widgets/base",
            "_view_module_version": "1.2.0",
            "_view_name": "StyleView",
            "description_width": ""
          }
        },
        "88440fa601d44ae4a94a3c9d8e1cfd9c": {
          "model_module": "@jupyter-widgets/controls",
          "model_name": "HBoxModel",
          "model_module_version": "1.5.0",
          "state": {
            "_dom_classes": [],
            "_model_module": "@jupyter-widgets/controls",
            "_model_module_version": "1.5.0",
            "_model_name": "HBoxModel",
            "_view_count": null,
            "_view_module": "@jupyter-widgets/controls",
            "_view_module_version": "1.5.0",
            "_view_name": "HBoxView",
            "box_style": "",
            "children": [
              "IPY_MODEL_b5800026f1ca49b98a9624ab0dc65a37",
              "IPY_MODEL_0b826da933804cac8fadc2e85868f977",
              "IPY_MODEL_5be35df7b3894840a2fded0acaed2767"
            ],
            "layout": "IPY_MODEL_f567b0ada241477aa84c42d224903a1f"
          }
        },
        "b5800026f1ca49b98a9624ab0dc65a37": {
          "model_module": "@jupyter-widgets/controls",
          "model_name": "HTMLModel",
          "model_module_version": "1.5.0",
          "state": {
            "_dom_classes": [],
            "_model_module": "@jupyter-widgets/controls",
            "_model_module_version": "1.5.0",
            "_model_name": "HTMLModel",
            "_view_count": null,
            "_view_module": "@jupyter-widgets/controls",
            "_view_module_version": "1.5.0",
            "_view_name": "HTMLView",
            "description": "",
            "description_tooltip": null,
            "layout": "IPY_MODEL_165efcef9749417ba5318ac977dadf27",
            "placeholder": "​",
            "style": "IPY_MODEL_372c360c665d41f791b07f5c093e5315",
            "value": ""
          }
        },
        "0b826da933804cac8fadc2e85868f977": {
          "model_module": "@jupyter-widgets/controls",
          "model_name": "FloatProgressModel",
          "model_module_version": "1.5.0",
          "state": {
            "_dom_classes": [],
            "_model_module": "@jupyter-widgets/controls",
            "_model_module_version": "1.5.0",
            "_model_name": "FloatProgressModel",
            "_view_count": null,
            "_view_module": "@jupyter-widgets/controls",
            "_view_module_version": "1.5.0",
            "_view_name": "ProgressView",
            "bar_style": "success",
            "description": "",
            "description_tooltip": null,
            "layout": "IPY_MODEL_d4ce953b18d64821b5a3bf7eba193823",
            "max": 1,
            "min": 0,
            "orientation": "horizontal",
            "style": "IPY_MODEL_3f2c50433a894b9ca53a6f561dd5b7f7",
            "value": 1
          }
        },
        "5be35df7b3894840a2fded0acaed2767": {
          "model_module": "@jupyter-widgets/controls",
          "model_name": "HTMLModel",
          "model_module_version": "1.5.0",
          "state": {
            "_dom_classes": [],
            "_model_module": "@jupyter-widgets/controls",
            "_model_module_version": "1.5.0",
            "_model_name": "HTMLModel",
            "_view_count": null,
            "_view_module": "@jupyter-widgets/controls",
            "_view_module_version": "1.5.0",
            "_view_name": "HTMLView",
            "description": "",
            "description_tooltip": null,
            "layout": "IPY_MODEL_95ed81df3042494595c1f936b0951e9e",
            "placeholder": "​",
            "style": "IPY_MODEL_1662c1f60d224abaaf8c4084f88a0b17",
            "value": " 957/? [00:15&lt;00:00, 61.26it/s]"
          }
        },
        "f567b0ada241477aa84c42d224903a1f": {
          "model_module": "@jupyter-widgets/base",
          "model_name": "LayoutModel",
          "model_module_version": "1.2.0",
          "state": {
            "_model_module": "@jupyter-widgets/base",
            "_model_module_version": "1.2.0",
            "_model_name": "LayoutModel",
            "_view_count": null,
            "_view_module": "@jupyter-widgets/base",
            "_view_module_version": "1.2.0",
            "_view_name": "LayoutView",
            "align_content": null,
            "align_items": null,
            "align_self": null,
            "border": null,
            "bottom": null,
            "display": null,
            "flex": null,
            "flex_flow": null,
            "grid_area": null,
            "grid_auto_columns": null,
            "grid_auto_flow": null,
            "grid_auto_rows": null,
            "grid_column": null,
            "grid_gap": null,
            "grid_row": null,
            "grid_template_areas": null,
            "grid_template_columns": null,
            "grid_template_rows": null,
            "height": null,
            "justify_content": null,
            "justify_items": null,
            "left": null,
            "margin": null,
            "max_height": null,
            "max_width": null,
            "min_height": null,
            "min_width": null,
            "object_fit": null,
            "object_position": null,
            "order": null,
            "overflow": null,
            "overflow_x": null,
            "overflow_y": null,
            "padding": null,
            "right": null,
            "top": null,
            "visibility": null,
            "width": null
          }
        },
        "165efcef9749417ba5318ac977dadf27": {
          "model_module": "@jupyter-widgets/base",
          "model_name": "LayoutModel",
          "model_module_version": "1.2.0",
          "state": {
            "_model_module": "@jupyter-widgets/base",
            "_model_module_version": "1.2.0",
            "_model_name": "LayoutModel",
            "_view_count": null,
            "_view_module": "@jupyter-widgets/base",
            "_view_module_version": "1.2.0",
            "_view_name": "LayoutView",
            "align_content": null,
            "align_items": null,
            "align_self": null,
            "border": null,
            "bottom": null,
            "display": null,
            "flex": null,
            "flex_flow": null,
            "grid_area": null,
            "grid_auto_columns": null,
            "grid_auto_flow": null,
            "grid_auto_rows": null,
            "grid_column": null,
            "grid_gap": null,
            "grid_row": null,
            "grid_template_areas": null,
            "grid_template_columns": null,
            "grid_template_rows": null,
            "height": null,
            "justify_content": null,
            "justify_items": null,
            "left": null,
            "margin": null,
            "max_height": null,
            "max_width": null,
            "min_height": null,
            "min_width": null,
            "object_fit": null,
            "object_position": null,
            "order": null,
            "overflow": null,
            "overflow_x": null,
            "overflow_y": null,
            "padding": null,
            "right": null,
            "top": null,
            "visibility": null,
            "width": null
          }
        },
        "372c360c665d41f791b07f5c093e5315": {
          "model_module": "@jupyter-widgets/controls",
          "model_name": "DescriptionStyleModel",
          "model_module_version": "1.5.0",
          "state": {
            "_model_module": "@jupyter-widgets/controls",
            "_model_module_version": "1.5.0",
            "_model_name": "DescriptionStyleModel",
            "_view_count": null,
            "_view_module": "@jupyter-widgets/base",
            "_view_module_version": "1.2.0",
            "_view_name": "StyleView",
            "description_width": ""
          }
        },
        "d4ce953b18d64821b5a3bf7eba193823": {
          "model_module": "@jupyter-widgets/base",
          "model_name": "LayoutModel",
          "model_module_version": "1.2.0",
          "state": {
            "_model_module": "@jupyter-widgets/base",
            "_model_module_version": "1.2.0",
            "_model_name": "LayoutModel",
            "_view_count": null,
            "_view_module": "@jupyter-widgets/base",
            "_view_module_version": "1.2.0",
            "_view_name": "LayoutView",
            "align_content": null,
            "align_items": null,
            "align_self": null,
            "border": null,
            "bottom": null,
            "display": null,
            "flex": null,
            "flex_flow": null,
            "grid_area": null,
            "grid_auto_columns": null,
            "grid_auto_flow": null,
            "grid_auto_rows": null,
            "grid_column": null,
            "grid_gap": null,
            "grid_row": null,
            "grid_template_areas": null,
            "grid_template_columns": null,
            "grid_template_rows": null,
            "height": null,
            "justify_content": null,
            "justify_items": null,
            "left": null,
            "margin": null,
            "max_height": null,
            "max_width": null,
            "min_height": null,
            "min_width": null,
            "object_fit": null,
            "object_position": null,
            "order": null,
            "overflow": null,
            "overflow_x": null,
            "overflow_y": null,
            "padding": null,
            "right": null,
            "top": null,
            "visibility": null,
            "width": "20px"
          }
        },
        "3f2c50433a894b9ca53a6f561dd5b7f7": {
          "model_module": "@jupyter-widgets/controls",
          "model_name": "ProgressStyleModel",
          "model_module_version": "1.5.0",
          "state": {
            "_model_module": "@jupyter-widgets/controls",
            "_model_module_version": "1.5.0",
            "_model_name": "ProgressStyleModel",
            "_view_count": null,
            "_view_module": "@jupyter-widgets/base",
            "_view_module_version": "1.2.0",
            "_view_name": "StyleView",
            "bar_color": null,
            "description_width": ""
          }
        },
        "95ed81df3042494595c1f936b0951e9e": {
          "model_module": "@jupyter-widgets/base",
          "model_name": "LayoutModel",
          "model_module_version": "1.2.0",
          "state": {
            "_model_module": "@jupyter-widgets/base",
            "_model_module_version": "1.2.0",
            "_model_name": "LayoutModel",
            "_view_count": null,
            "_view_module": "@jupyter-widgets/base",
            "_view_module_version": "1.2.0",
            "_view_name": "LayoutView",
            "align_content": null,
            "align_items": null,
            "align_self": null,
            "border": null,
            "bottom": null,
            "display": null,
            "flex": null,
            "flex_flow": null,
            "grid_area": null,
            "grid_auto_columns": null,
            "grid_auto_flow": null,
            "grid_auto_rows": null,
            "grid_column": null,
            "grid_gap": null,
            "grid_row": null,
            "grid_template_areas": null,
            "grid_template_columns": null,
            "grid_template_rows": null,
            "height": null,
            "justify_content": null,
            "justify_items": null,
            "left": null,
            "margin": null,
            "max_height": null,
            "max_width": null,
            "min_height": null,
            "min_width": null,
            "object_fit": null,
            "object_position": null,
            "order": null,
            "overflow": null,
            "overflow_x": null,
            "overflow_y": null,
            "padding": null,
            "right": null,
            "top": null,
            "visibility": null,
            "width": null
          }
        },
        "1662c1f60d224abaaf8c4084f88a0b17": {
          "model_module": "@jupyter-widgets/controls",
          "model_name": "DescriptionStyleModel",
          "model_module_version": "1.5.0",
          "state": {
            "_model_module": "@jupyter-widgets/controls",
            "_model_module_version": "1.5.0",
            "_model_name": "DescriptionStyleModel",
            "_view_count": null,
            "_view_module": "@jupyter-widgets/base",
            "_view_module_version": "1.2.0",
            "_view_name": "StyleView",
            "description_width": ""
          }
        },
        "7723b242f3244b70bed8b7427aaf96fb": {
          "model_module": "@jupyter-widgets/controls",
          "model_name": "HBoxModel",
          "model_module_version": "1.5.0",
          "state": {
            "_dom_classes": [],
            "_model_module": "@jupyter-widgets/controls",
            "_model_module_version": "1.5.0",
            "_model_name": "HBoxModel",
            "_view_count": null,
            "_view_module": "@jupyter-widgets/controls",
            "_view_module_version": "1.5.0",
            "_view_name": "HBoxView",
            "box_style": "",
            "children": [
              "IPY_MODEL_b98c1efd06874910af87c511de8fd95e",
              "IPY_MODEL_e67882d7b4364ab69d4e2bc9c7d3818d",
              "IPY_MODEL_a2d68aa5a06e461d9b844b0dd6743d18"
            ],
            "layout": "IPY_MODEL_1cce71fbc9d04da7a0748bc28b6dcf43"
          }
        },
        "b98c1efd06874910af87c511de8fd95e": {
          "model_module": "@jupyter-widgets/controls",
          "model_name": "HTMLModel",
          "model_module_version": "1.5.0",
          "state": {
            "_dom_classes": [],
            "_model_module": "@jupyter-widgets/controls",
            "_model_module_version": "1.5.0",
            "_model_name": "HTMLModel",
            "_view_count": null,
            "_view_module": "@jupyter-widgets/controls",
            "_view_module_version": "1.5.0",
            "_view_name": "HTMLView",
            "description": "",
            "description_tooltip": null,
            "layout": "IPY_MODEL_ff220e4e517443d1afe73c60bac515b4",
            "placeholder": "​",
            "style": "IPY_MODEL_b6b7b2aadb014e5a967b67d9d6ab8557",
            "value": " 12%"
          }
        },
        "e67882d7b4364ab69d4e2bc9c7d3818d": {
          "model_module": "@jupyter-widgets/controls",
          "model_name": "FloatProgressModel",
          "model_module_version": "1.5.0",
          "state": {
            "_dom_classes": [],
            "_model_module": "@jupyter-widgets/controls",
            "_model_module_version": "1.5.0",
            "_model_name": "FloatProgressModel",
            "_view_count": null,
            "_view_module": "@jupyter-widgets/controls",
            "_view_module_version": "1.5.0",
            "_view_name": "ProgressView",
            "bar_style": "danger",
            "description": "",
            "description_tooltip": null,
            "layout": "IPY_MODEL_bacae8394be046d0b1547f33b25dae0e",
            "max": 128,
            "min": 0,
            "orientation": "horizontal",
            "style": "IPY_MODEL_b1ca01d7b92343fca0b43d9a535f9042",
            "value": 16
          }
        },
        "a2d68aa5a06e461d9b844b0dd6743d18": {
          "model_module": "@jupyter-widgets/controls",
          "model_name": "HTMLModel",
          "model_module_version": "1.5.0",
          "state": {
            "_dom_classes": [],
            "_model_module": "@jupyter-widgets/controls",
            "_model_module_version": "1.5.0",
            "_model_name": "HTMLModel",
            "_view_count": null,
            "_view_module": "@jupyter-widgets/controls",
            "_view_module_version": "1.5.0",
            "_view_name": "HTMLView",
            "description": "",
            "description_tooltip": null,
            "layout": "IPY_MODEL_845f7523fae84dcbb1d9f546be7dd84f",
            "placeholder": "​",
            "style": "IPY_MODEL_f5744be4c9b448e2bafca6173861c8b7",
            "value": " 16/128 [00:00&lt;00:02, 50.43it/s]"
          }
        },
        "1cce71fbc9d04da7a0748bc28b6dcf43": {
          "model_module": "@jupyter-widgets/base",
          "model_name": "LayoutModel",
          "model_module_version": "1.2.0",
          "state": {
            "_model_module": "@jupyter-widgets/base",
            "_model_module_version": "1.2.0",
            "_model_name": "LayoutModel",
            "_view_count": null,
            "_view_module": "@jupyter-widgets/base",
            "_view_module_version": "1.2.0",
            "_view_name": "LayoutView",
            "align_content": null,
            "align_items": null,
            "align_self": null,
            "border": null,
            "bottom": null,
            "display": null,
            "flex": null,
            "flex_flow": null,
            "grid_area": null,
            "grid_auto_columns": null,
            "grid_auto_flow": null,
            "grid_auto_rows": null,
            "grid_column": null,
            "grid_gap": null,
            "grid_row": null,
            "grid_template_areas": null,
            "grid_template_columns": null,
            "grid_template_rows": null,
            "height": null,
            "justify_content": null,
            "justify_items": null,
            "left": null,
            "margin": null,
            "max_height": null,
            "max_width": null,
            "min_height": null,
            "min_width": null,
            "object_fit": null,
            "object_position": null,
            "order": null,
            "overflow": null,
            "overflow_x": null,
            "overflow_y": null,
            "padding": null,
            "right": null,
            "top": null,
            "visibility": null,
            "width": null
          }
        },
        "ff220e4e517443d1afe73c60bac515b4": {
          "model_module": "@jupyter-widgets/base",
          "model_name": "LayoutModel",
          "model_module_version": "1.2.0",
          "state": {
            "_model_module": "@jupyter-widgets/base",
            "_model_module_version": "1.2.0",
            "_model_name": "LayoutModel",
            "_view_count": null,
            "_view_module": "@jupyter-widgets/base",
            "_view_module_version": "1.2.0",
            "_view_name": "LayoutView",
            "align_content": null,
            "align_items": null,
            "align_self": null,
            "border": null,
            "bottom": null,
            "display": null,
            "flex": null,
            "flex_flow": null,
            "grid_area": null,
            "grid_auto_columns": null,
            "grid_auto_flow": null,
            "grid_auto_rows": null,
            "grid_column": null,
            "grid_gap": null,
            "grid_row": null,
            "grid_template_areas": null,
            "grid_template_columns": null,
            "grid_template_rows": null,
            "height": null,
            "justify_content": null,
            "justify_items": null,
            "left": null,
            "margin": null,
            "max_height": null,
            "max_width": null,
            "min_height": null,
            "min_width": null,
            "object_fit": null,
            "object_position": null,
            "order": null,
            "overflow": null,
            "overflow_x": null,
            "overflow_y": null,
            "padding": null,
            "right": null,
            "top": null,
            "visibility": null,
            "width": null
          }
        },
        "b6b7b2aadb014e5a967b67d9d6ab8557": {
          "model_module": "@jupyter-widgets/controls",
          "model_name": "DescriptionStyleModel",
          "model_module_version": "1.5.0",
          "state": {
            "_model_module": "@jupyter-widgets/controls",
            "_model_module_version": "1.5.0",
            "_model_name": "DescriptionStyleModel",
            "_view_count": null,
            "_view_module": "@jupyter-widgets/base",
            "_view_module_version": "1.2.0",
            "_view_name": "StyleView",
            "description_width": ""
          }
        },
        "bacae8394be046d0b1547f33b25dae0e": {
          "model_module": "@jupyter-widgets/base",
          "model_name": "LayoutModel",
          "model_module_version": "1.2.0",
          "state": {
            "_model_module": "@jupyter-widgets/base",
            "_model_module_version": "1.2.0",
            "_model_name": "LayoutModel",
            "_view_count": null,
            "_view_module": "@jupyter-widgets/base",
            "_view_module_version": "1.2.0",
            "_view_name": "LayoutView",
            "align_content": null,
            "align_items": null,
            "align_self": null,
            "border": null,
            "bottom": null,
            "display": null,
            "flex": null,
            "flex_flow": null,
            "grid_area": null,
            "grid_auto_columns": null,
            "grid_auto_flow": null,
            "grid_auto_rows": null,
            "grid_column": null,
            "grid_gap": null,
            "grid_row": null,
            "grid_template_areas": null,
            "grid_template_columns": null,
            "grid_template_rows": null,
            "height": null,
            "justify_content": null,
            "justify_items": null,
            "left": null,
            "margin": null,
            "max_height": null,
            "max_width": null,
            "min_height": null,
            "min_width": null,
            "object_fit": null,
            "object_position": null,
            "order": null,
            "overflow": null,
            "overflow_x": null,
            "overflow_y": null,
            "padding": null,
            "right": null,
            "top": null,
            "visibility": null,
            "width": null
          }
        },
        "b1ca01d7b92343fca0b43d9a535f9042": {
          "model_module": "@jupyter-widgets/controls",
          "model_name": "ProgressStyleModel",
          "model_module_version": "1.5.0",
          "state": {
            "_model_module": "@jupyter-widgets/controls",
            "_model_module_version": "1.5.0",
            "_model_name": "ProgressStyleModel",
            "_view_count": null,
            "_view_module": "@jupyter-widgets/base",
            "_view_module_version": "1.2.0",
            "_view_name": "StyleView",
            "bar_color": null,
            "description_width": ""
          }
        },
        "845f7523fae84dcbb1d9f546be7dd84f": {
          "model_module": "@jupyter-widgets/base",
          "model_name": "LayoutModel",
          "model_module_version": "1.2.0",
          "state": {
            "_model_module": "@jupyter-widgets/base",
            "_model_module_version": "1.2.0",
            "_model_name": "LayoutModel",
            "_view_count": null,
            "_view_module": "@jupyter-widgets/base",
            "_view_module_version": "1.2.0",
            "_view_name": "LayoutView",
            "align_content": null,
            "align_items": null,
            "align_self": null,
            "border": null,
            "bottom": null,
            "display": null,
            "flex": null,
            "flex_flow": null,
            "grid_area": null,
            "grid_auto_columns": null,
            "grid_auto_flow": null,
            "grid_auto_rows": null,
            "grid_column": null,
            "grid_gap": null,
            "grid_row": null,
            "grid_template_areas": null,
            "grid_template_columns": null,
            "grid_template_rows": null,
            "height": null,
            "justify_content": null,
            "justify_items": null,
            "left": null,
            "margin": null,
            "max_height": null,
            "max_width": null,
            "min_height": null,
            "min_width": null,
            "object_fit": null,
            "object_position": null,
            "order": null,
            "overflow": null,
            "overflow_x": null,
            "overflow_y": null,
            "padding": null,
            "right": null,
            "top": null,
            "visibility": null,
            "width": null
          }
        },
        "f5744be4c9b448e2bafca6173861c8b7": {
          "model_module": "@jupyter-widgets/controls",
          "model_name": "DescriptionStyleModel",
          "model_module_version": "1.5.0",
          "state": {
            "_model_module": "@jupyter-widgets/controls",
            "_model_module_version": "1.5.0",
            "_model_name": "DescriptionStyleModel",
            "_view_count": null,
            "_view_module": "@jupyter-widgets/base",
            "_view_module_version": "1.2.0",
            "_view_name": "StyleView",
            "description_width": ""
          }
        }
      }
    }
  },
  "nbformat": 4,
  "nbformat_minor": 0
}